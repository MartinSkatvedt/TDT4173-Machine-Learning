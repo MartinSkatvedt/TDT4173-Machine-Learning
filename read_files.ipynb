{
 "cells": [
  {
   "cell_type": "code",
   "execution_count": 505,
   "metadata": {
    "scrolled": false
   },
   "outputs": [],
   "source": [
    "import os\n",
    "import pandas as pd\n",
    "import numpy as np\n",
    "import matplotlib.pylab as plt\n",
    "%matplotlib inline\n",
    "import seaborn as sns\n",
    "import tensorflow as tf\n",
    "import math\n",
    "\n",
    "from keras.models import Sequential\n",
    "from keras.layers import LSTM, Dense\n",
    "\n",
    "pd.set_option('display.max_rows', 200)\n",
    "pd.set_option('display.max_columns', 200)\n",
    "\n",
    "os.environ['KMP_DUPLICATE_LIB_OK'] = 'True'"
   ]
  },
  {
   "cell_type": "code",
   "execution_count": 506,
   "metadata": {},
   "outputs": [],
   "source": [
    "def quartersToHours(data):\n",
    "    data['date_forecast'] = pd.to_datetime(data['date_forecast'], format='%Y-%m.%d %H:%M:%S')\n",
    "    data[\"year\"] = data['date_forecast'].dt.year\n",
    "    data[\"month\"] = data['date_forecast'].dt.month\n",
    "    data[\"day\"] = data['date_forecast'].dt.day\n",
    "    data[\"hour\"] = data['date_forecast'].dt.hour\n",
    "\n",
    "\n",
    "    group = data.groupby([data[\"year\"], data[\"month\"], data[\"day\"], data[\"hour\"]])  \n",
    "    result = group.mean()\n",
    "    result = result.reset_index()\n",
    "    \n",
    "    return_df = result.drop(['year','month', 'day', 'hour'], axis=1)\n",
    "    \n",
    "    return return_df"
   ]
  },
  {
   "cell_type": "code",
   "execution_count": 507,
   "metadata": {},
   "outputs": [],
   "source": [
    "def join_data_and_labels(train, val, labels):\n",
    "    \n",
    "    #Remove hour and minute values\n",
    "    val = val.assign(date_forecast=val.date_forecast.dt.round('H'))\n",
    "    train = train.assign(date_forecast=train.date_forecast.dt.round('H'))\n",
    "    \n",
    "    #rename columns names to match\n",
    "    \n",
    "    train = train.rename(columns={'date_forecast': 'date'})\n",
    "    val = val.rename(columns={'date_forecast': 'date'})\n",
    "    labels = labels.rename(columns={'time': 'date'})\n",
    "    \n",
    "    joined_train = pd.merge(train, labels, how=\"inner\", on=\"date\")\n",
    "    joined_val = pd.merge(val, labels, how=\"inner\", on=\"date\")\n",
    "\n",
    "    \n",
    "    return joined_train, joined_val"
   ]
  },
  {
   "cell_type": "code",
   "execution_count": 508,
   "metadata": {},
   "outputs": [],
   "source": [
    "def remove_unused_columns(df):\n",
    "    df = df.pop('wind_speed_10m:ms')"
   ]
  },
  {
   "cell_type": "code",
   "execution_count": 509,
   "metadata": {},
   "outputs": [],
   "source": [
    "def drop_constanst_columns(train, val, test):\n",
    "    constanst_columns = []\n",
    "    # Remove constants\n",
    "    for key, value in train.std().items():\n",
    "        if value == 0.0:\n",
    "            constanst_columns.append(key)\n",
    "\n",
    "    for key in constanst_columns:\n",
    "        if val.std()[key] != 0.0 or test.std()[key] != 0.0:\n",
    "            constanst_columns.remove(key)\n",
    "\n",
    "    for key in constanst_columns:\n",
    "        train = train.drop([key], axis=1)\n",
    "        val = val.drop([key], axis=1)\n",
    "        test = test.drop([key], axis=1)"
   ]
  },
  {
   "cell_type": "code",
   "execution_count": 510,
   "metadata": {},
   "outputs": [],
   "source": [
    "def convert_date_to_sin_and_cos(df):\n",
    "    day = 24*60*60\n",
    "    year = (365.2425)*day\n",
    "    month = year / 12.0\n",
    "\n",
    "    date_time = pd.to_datetime(df.pop('date'), format='%Y-%m.%d %H:%M:%S')\n",
    "    timestamp_s = date_time.map(pd.Timestamp.timestamp)\n",
    "\n",
    "    df['Month sin'] = np.sin(timestamp_s * (2 * np.pi / month))\n",
    "    df['Month cos'] = np.cos(timestamp_s * (2 * np.pi / month))\n",
    "    df['Year sin'] = np.sin(timestamp_s * (2 * np.pi / year))\n",
    "    df['Year cos'] = np.cos(timestamp_s * (2 * np.pi / year))"
   ]
  },
  {
   "cell_type": "code",
   "execution_count": 511,
   "metadata": {},
   "outputs": [],
   "source": [
    "def round_is_day(df):\n",
    "    df[\"is_day:idx\"] = [round(df[\"is_day:idx\"][i]) for i in range(len(df))]"
   ]
  },
  {
   "cell_type": "code",
   "execution_count": 512,
   "metadata": {},
   "outputs": [],
   "source": [
    "train_a = pd.read_parquet('dataset/A/train_targets.parquet')\n",
    "train_b = pd.read_parquet('dataset/B/train_targets.parquet')\n",
    "train_c = pd.read_parquet('dataset/C/train_targets.parquet')"
   ]
  },
  {
   "cell_type": "code",
   "execution_count": 513,
   "metadata": {},
   "outputs": [],
   "source": [
    "#Load data, sample to hours and drop columns which are not needed\n",
    "X_train_observed_a = quartersToHours(pd.read_parquet('dataset/A/X_train_observed.parquet')) #Train_x\n",
    "X_train_observed_b = quartersToHours(pd.read_parquet('dataset/B/X_train_observed.parquet'))\n",
    "X_train_observed_c = quartersToHours(pd.read_parquet('dataset/C/X_train_observed.parquet'))\n",
    "\n",
    "X_train_estimated_a = quartersToHours(pd.read_parquet('dataset/A/X_train_estimated.parquet')) # Val_x\n",
    "X_train_estimated_a = X_train_estimated_a.drop([\"date_calc\"], axis=1)\n",
    "\n",
    "X_train_estimated_b = quartersToHours(pd.read_parquet('dataset/B/X_train_estimated.parquet'))\n",
    "X_train_estimated_b = X_train_estimated_b.drop([\"date_calc\"], axis=1)\n",
    "\n",
    "X_train_estimated_c = quartersToHours(pd.read_parquet('dataset/C/X_train_estimated.parquet'))\n",
    "X_train_estimated_c = X_train_estimated_c.drop([\"date_calc\"], axis=1)\n",
    "\n",
    "X_test_estimated_a = quartersToHours(pd.read_parquet('dataset/A/X_test_estimated.parquet'))\n",
    "X_test_estimated_a = X_test_estimated_a.drop([\"date_calc\"], axis=1)\n",
    "test_a = X_test_estimated_a.rename(columns={'date_forecast': 'date'})\n",
    "\n",
    "X_test_estimated_b = quartersToHours(pd.read_parquet('dataset/B/X_test_estimated.parquet'))\n",
    "X_test_estimated_b = X_test_estimated_b.drop([\"date_calc\"], axis=1)\n",
    "test_b = X_test_estimated_b.rename(columns={'date_forecast': 'date'})\n",
    "\n",
    "X_test_estimated_c = quartersToHours(pd.read_parquet('dataset/C/X_test_estimated.parquet'))\n",
    "X_test_estimated_c = X_test_estimated_c.drop([\"date_calc\"], axis=1)\n",
    "test_c = X_test_estimated_c.rename(columns={'date_forecast': 'date'})"
   ]
  },
  {
   "cell_type": "code",
   "execution_count": 514,
   "metadata": {},
   "outputs": [],
   "source": [
    "# Join data and labels into one df\n",
    "train_data_a, val_data_a = join_data_and_labels(X_train_observed_a, X_train_estimated_a, train_a)\n",
    "train_data_b, val_data_b = join_data_and_labels(X_train_observed_b, X_train_estimated_b, train_b)\n",
    "train_data_c, val_data_c = join_data_and_labels(X_train_observed_c, X_train_estimated_c, train_c)"
   ]
  },
  {
   "cell_type": "code",
   "execution_count": 515,
   "metadata": {},
   "outputs": [],
   "source": [
    "# Remove columns which are not needed\n",
    "remove_unused_columns(train_data_a)\n",
    "remove_unused_columns(val_data_a)\n",
    "remove_unused_columns(test_a)\n",
    "\n",
    "remove_unused_columns(train_data_b)\n",
    "remove_unused_columns(val_data_b)\n",
    "remove_unused_columns(test_b)\n",
    "\n",
    "remove_unused_columns(train_data_c)\n",
    "remove_unused_columns(val_data_c)\n",
    "remove_unused_columns(test_c)"
   ]
  },
  {
   "cell_type": "code",
   "execution_count": 516,
   "metadata": {},
   "outputs": [],
   "source": [
    "# Drop columns which are constant\n",
    "drop_constanst_columns(train_data_a, val_data_a, test_a)\n",
    "drop_constanst_columns(train_data_b, val_data_b, test_b)\n",
    "drop_constanst_columns(train_data_c, val_data_c, test_c)"
   ]
  },
  {
   "cell_type": "code",
   "execution_count": 517,
   "metadata": {},
   "outputs": [],
   "source": [
    "# Convert date into sin and cos components\n",
    "convert_date_to_sin_and_cos(train_data_a)\n",
    "convert_date_to_sin_and_cos(val_data_a)\n",
    "convert_date_to_sin_and_cos(test_a)\n",
    "\n",
    "convert_date_to_sin_and_cos(train_data_b)\n",
    "convert_date_to_sin_and_cos(val_data_b)\n",
    "convert_date_to_sin_and_cos(test_b)\n",
    "\n",
    "convert_date_to_sin_and_cos(train_data_c)\n",
    "convert_date_to_sin_and_cos(val_data_c)\n",
    "convert_date_to_sin_and_cos(test_c)"
   ]
  },
  {
   "cell_type": "code",
   "execution_count": 518,
   "metadata": {},
   "outputs": [],
   "source": [
    "# Isday should be a binary value\n",
    "round_is_day(train_data_a)\n",
    "round_is_day(val_data_a)\n",
    "round_is_day(test_a)\n",
    "\n",
    "round_is_day(train_data_b)\n",
    "round_is_day(val_data_b)\n",
    "round_is_day(test_b)\n",
    "\n",
    "round_is_day(train_data_c)\n",
    "round_is_day(val_data_c)\n",
    "round_is_day(test_c)"
   ]
  },
  {
   "cell_type": "code",
   "execution_count": 519,
   "metadata": {},
   "outputs": [],
   "source": [
    "# Fill 0 for NaNs\n",
    "train_data_a = train_data_a.fillna(0)\n",
    "val_data_a = val_data_a.fillna(0)\n",
    "test_a = test_a.fillna(0)\n",
    "\n",
    "train_data_b = train_data_b.fillna(0)\n",
    "val_data_b = val_data_b.fillna(0)\n",
    "test_b = test_b.fillna(0)\n",
    "\n",
    "train_data_c = train_data_c.fillna(0)\n",
    "val_data_c = val_data_c.fillna(0)\n",
    "test_c = test_c.fillna(0)"
   ]
  },
  {
   "cell_type": "code",
   "execution_count": 520,
   "metadata": {},
   "outputs": [],
   "source": [
    "MAX_EPOCHS = 20\n",
    "\n",
    "def compile_and_fit(model, train_x, train_y, val_x, val_y, patience=2):\n",
    "    early_stopping = tf.keras.callbacks.EarlyStopping(monitor='val_loss',\n",
    "                                                    patience=patience,\n",
    "                                                    mode='min')\n",
    "\n",
    "    model.compile(loss=tf.keras.losses.MeanSquaredError(),\n",
    "                optimizer=tf.keras.optimizers.Adam(),\n",
    "                metrics=[tf.keras.metrics.MeanAbsoluteError()])\n",
    "\n",
    "    history = model.fit(x= train_x, y=train_y, epochs=MAX_EPOCHS,\n",
    "                      validation_data=(val_x, val_y),\n",
    "                       callbacks=[early_stopping])\n",
    "    return history"
   ]
  },
  {
   "cell_type": "code",
   "execution_count": 521,
   "metadata": {},
   "outputs": [],
   "source": [
    "def split_and_batch(df):\n",
    "    df_labels = df.pop(\"pv_measurement\")\n",
    "    \n",
    "    BATCH_SIZE=30\n",
    "\n",
    "    df_arr = np.array(df, dtype=np.float32)\n",
    "    df_label_arr = np.array(df_labels, dtype=np.float32)\n",
    "\n",
    "    # Calculate the number of batches needed\n",
    "    num_batches = df_arr.shape[0] // BATCH_SIZE\n",
    "\n",
    "    # Reshape the 2D array into a 3D array with shape (num_batches, BATCH_SIZE, 48)\n",
    "    if df_arr.shape[0] % BATCH_SIZE == 0:\n",
    "        # If the data size is a multiple of BATCH_SIZE\n",
    "        data_3d = df_arr.reshape(num_batches, BATCH_SIZE, -1)\n",
    "        label_3d = df_label_arr.reshape(num_batches, BATCH_SIZE, -1)\n",
    "\n",
    "    else:\n",
    "        # If there's some remaining data that doesn't fit perfectly into batches\n",
    "        remaining_rows = df_arr.shape[0] % BATCH_SIZE\n",
    "        data_3d = df_arr[:-remaining_rows].reshape(num_batches, BATCH_SIZE, -1)\n",
    "        label_3d = df_label_arr[:-remaining_rows].reshape(num_batches, BATCH_SIZE, -1)\n",
    "\n",
    "    return data_3d, label_3d"
   ]
  },
  {
   "cell_type": "code",
   "execution_count": 522,
   "metadata": {},
   "outputs": [],
   "source": [
    "def batch(df):\n",
    "    BATCH_SIZE=30\n",
    "\n",
    "    df_arr = np.array(df, dtype=np.float32)\n",
    "\n",
    "    # Calculate the number of batches needed\n",
    "    num_batches = df_arr.shape[0] // BATCH_SIZE\n",
    "\n",
    "    # Reshape the 2D array into a 3D array with shape (num_batches, BATCH_SIZE, 48)\n",
    "    if df_arr.shape[0] % BATCH_SIZE == 0:\n",
    "        # If the data size is a multiple of BATCH_SIZE\n",
    "        data_3d = df_arr.reshape(num_batches, BATCH_SIZE, -1)\n",
    "\n",
    "    else:\n",
    "        # If there's some remaining data that doesn't fit perfectly into batches\n",
    "        remaining_rows = df_arr.shape[0] % BATCH_SIZE\n",
    "        data_3d = df_arr[:-remaining_rows].reshape(num_batches, BATCH_SIZE, -1)\n",
    "\n",
    "    return data_3d\n",
    "    "
   ]
  },
  {
   "cell_type": "code",
   "execution_count": 523,
   "metadata": {},
   "outputs": [],
   "source": [
    "train_a_x, train_a_y = split_and_batch(train_data_a)\n",
    "val_a_x, val_a_y = split_and_batch(val_data_a)\n",
    "\n",
    "train_b_x, train_b_y = split_and_batch(train_data_b)\n",
    "val_b_x, val_b_y = split_and_batch(val_data_b)\n",
    "\n",
    "train_c_x, train_c_y = split_and_batch(train_data_c)\n",
    "val_c_x, val_c_y = split_and_batch(val_data_c)\n",
    "\n",
    "test_a = batch(test_a)\n",
    "test_b = batch(test_b)\n",
    "test_c = batch(test_c)"
   ]
  },
  {
   "cell_type": "code",
   "execution_count": 524,
   "metadata": {},
   "outputs": [
    {
     "data": {
      "text/plain": [
       "30"
      ]
     },
     "execution_count": 524,
     "metadata": {},
     "output_type": "execute_result"
    }
   ],
   "source": [
    "len(test_c[21])"
   ]
  },
  {
   "cell_type": "code",
   "execution_count": 525,
   "metadata": {},
   "outputs": [],
   "source": [
    "train_a_max = train_a_y.max()\n",
    "train_a_y = train_a_y / train_a_max\n",
    "val_a_y = val_a_y / train_a_max\n",
    "\n",
    "train_b_max = train_b_y.max()\n",
    "train_b_y = train_b_y / train_b_max\n",
    "val_b_y = val_b_y / train_b_max\n",
    "\n",
    "train_c_max = train_c_y.max()\n",
    "train_c_y = train_c_y / train_c_max\n",
    "val_c_y = val_c_y / train_c_max"
   ]
  },
  {
   "cell_type": "code",
   "execution_count": 526,
   "metadata": {},
   "outputs": [],
   "source": [
    "lstm_model_a = tf.keras.models.Sequential([\n",
    "    tf.keras.layers.Normalization(axis=-1, mean=None, variance=None, invert=False),\n",
    "    \n",
    "    tf.keras.layers.LSTM(30, return_sequences=True),\n",
    "    tf.keras.layers.LSTM(64, return_sequences=True),\n",
    "    tf.keras.layers.LSTM(64, return_sequences=True),\n",
    "    tf.keras.layers.Dense(units=48),\n",
    "    tf.keras.layers.Dense(units=32),\n",
    "\n",
    "    tf.keras.layers.Dense(units=1, activation=\"relu\")\n",
    "])\n",
    "\n",
    "lstm_model_b = tf.keras.models.clone_model(lstm_model_a)\n",
    "lstm_model_c = tf.keras.models.clone_model(lstm_model_a)"
   ]
  },
  {
   "cell_type": "code",
   "execution_count": 527,
   "metadata": {},
   "outputs": [
    {
     "name": "stdout",
     "output_type": "stream",
     "text": [
      "Epoch 1/20\n",
      "31/31 [==============================] - 27s 254ms/step - loss: 0.0282 - mean_absolute_error: 0.0956 - val_loss: 0.0107 - val_mean_absolute_error: 0.0468\n",
      "Epoch 2/20\n",
      "31/31 [==============================] - 4s 115ms/step - loss: 0.0185 - mean_absolute_error: 0.0737 - val_loss: 0.0095 - val_mean_absolute_error: 0.0423\n",
      "Epoch 3/20\n",
      "31/31 [==============================] - 4s 119ms/step - loss: 0.0163 - mean_absolute_error: 0.0685 - val_loss: 0.0092 - val_mean_absolute_error: 0.0446\n",
      "Epoch 4/20\n",
      "31/31 [==============================] - 4s 120ms/step - loss: 0.0160 - mean_absolute_error: 0.0679 - val_loss: 0.0087 - val_mean_absolute_error: 0.0437\n",
      "Epoch 5/20\n",
      "31/31 [==============================] - 4s 123ms/step - loss: 0.0157 - mean_absolute_error: 0.0671 - val_loss: 0.0076 - val_mean_absolute_error: 0.0380\n",
      "Epoch 6/20\n",
      "31/31 [==============================] - 4s 119ms/step - loss: 0.0149 - mean_absolute_error: 0.0643 - val_loss: 0.0073 - val_mean_absolute_error: 0.0378\n",
      "Epoch 7/20\n",
      "31/31 [==============================] - 4s 118ms/step - loss: 0.0146 - mean_absolute_error: 0.0631 - val_loss: 0.0088 - val_mean_absolute_error: 0.0423\n",
      "Epoch 8/20\n",
      "31/31 [==============================] - 4s 119ms/step - loss: 0.0147 - mean_absolute_error: 0.0635 - val_loss: 0.0078 - val_mean_absolute_error: 0.0379\n",
      "5/5 [==============================] - 0s 38ms/step - loss: 0.0078 - mean_absolute_error: 0.0379\n",
      "measure a: [0.007832861505448818, 0.03785121440887451]\n"
     ]
    }
   ],
   "source": [
    "history_a = compile_and_fit(lstm_model_a,train_a_x, train_a_y, val_a_x, val_a_y)\n",
    "print(f'measure a: {lstm_model_a.evaluate(val_a_x, val_a_y)}')"
   ]
  },
  {
   "cell_type": "code",
   "execution_count": 528,
   "metadata": {},
   "outputs": [
    {
     "name": "stdout",
     "output_type": "stream",
     "text": [
      "Epoch 1/20\n",
      "31/31 [==============================] - 29s 252ms/step - loss: 0.0268 - mean_absolute_error: 0.0874 - val_loss: 0.0088 - val_mean_absolute_error: 0.0398\n",
      "Epoch 2/20\n",
      "31/31 [==============================] - 4s 118ms/step - loss: 0.0172 - mean_absolute_error: 0.0717 - val_loss: 0.0073 - val_mean_absolute_error: 0.0370\n",
      "Epoch 3/20\n",
      "31/31 [==============================] - 4s 118ms/step - loss: 0.0149 - mean_absolute_error: 0.0649 - val_loss: 0.0066 - val_mean_absolute_error: 0.0341\n",
      "Epoch 4/20\n",
      "31/31 [==============================] - 4s 119ms/step - loss: 0.0142 - mean_absolute_error: 0.0634 - val_loss: 0.0059 - val_mean_absolute_error: 0.0333\n",
      "Epoch 5/20\n",
      "31/31 [==============================] - 4s 118ms/step - loss: 0.0138 - mean_absolute_error: 0.0621 - val_loss: 0.0059 - val_mean_absolute_error: 0.0364\n",
      "Epoch 6/20\n",
      "31/31 [==============================] - 4s 118ms/step - loss: 0.0133 - mean_absolute_error: 0.0613 - val_loss: 0.0063 - val_mean_absolute_error: 0.0363\n",
      "Epoch 7/20\n",
      "31/31 [==============================] - 4s 119ms/step - loss: 0.0130 - mean_absolute_error: 0.0604 - val_loss: 0.0060 - val_mean_absolute_error: 0.0325\n",
      "4/4 [==============================] - 0s 45ms/step - loss: 0.0060 - mean_absolute_error: 0.0325\n",
      "measure b: [0.006029543466866016, 0.03246865049004555]\n"
     ]
    }
   ],
   "source": [
    "history_b = compile_and_fit(lstm_model_b,train_b_x, train_b_y, val_b_x, val_b_y)\n",
    "print(f'measure b: {lstm_model_b.evaluate(val_b_x, val_b_y)}')"
   ]
  },
  {
   "cell_type": "code",
   "execution_count": 529,
   "metadata": {},
   "outputs": [
    {
     "name": "stdout",
     "output_type": "stream",
     "text": [
      "Epoch 1/20\n",
      "31/31 [==============================] - 29s 252ms/step - loss: 0.0287 - mean_absolute_error: 0.0654 - val_loss: 0.0130 - val_mean_absolute_error: 0.0410\n",
      "Epoch 2/20\n",
      "31/31 [==============================] - 4s 117ms/step - loss: 0.0287 - mean_absolute_error: 0.0653 - val_loss: 0.0130 - val_mean_absolute_error: 0.0410\n",
      "Epoch 3/20\n",
      "31/31 [==============================] - 4s 116ms/step - loss: 0.0287 - mean_absolute_error: 0.0653 - val_loss: 0.0130 - val_mean_absolute_error: 0.0410\n",
      "4/4 [==============================] - 0s 34ms/step - loss: 0.0130 - mean_absolute_error: 0.0410\n",
      "measure b: [0.013048933818936348, 0.04095209389925003]\n"
     ]
    }
   ],
   "source": [
    "history_c = compile_and_fit(lstm_model_c,train_c_x, train_c_y, val_c_x, val_c_y)\n",
    "print(f'measure b: {lstm_model_c.evaluate(val_c_x, val_c_y)}')"
   ]
  },
  {
   "cell_type": "code",
   "execution_count": 533,
   "metadata": {},
   "outputs": [
    {
     "name": "stdout",
     "output_type": "stream",
     "text": [
      "1/1 [==============================] - 0s 90ms/step\n",
      "1/1 [==============================] - 0s 70ms/step\n",
      "1/1 [==============================] - 0s 81ms/step\n"
     ]
    }
   ],
   "source": [
    "pred_a = lstm_model_a.predict(test_a)\n",
    "pred_b = lstm_model_b.predict(test_b)\n",
    "pred_c = lstm_model_c.predict(test_c)"
   ]
  },
  {
   "cell_type": "code",
   "execution_count": 534,
   "metadata": {},
   "outputs": [],
   "source": [
    "pred_a = pred_a.flatten() * train_a_max\n",
    "pred_b = pred_b.flatten() * train_b_max\n",
    "pred_c = pred_c.flatten() * train_c_max"
   ]
  },
  {
   "cell_type": "code",
   "execution_count": 535,
   "metadata": {},
   "outputs": [
    {
     "data": {
      "text/plain": [
       "[<matplotlib.lines.Line2D at 0x1fa1b99ae00>]"
      ]
     },
     "execution_count": 535,
     "metadata": {},
     "output_type": "execute_result"
    },
    {
     "data": {
      "image/png": "[encoded data removed]",
      "text/plain": [
       "<Figure size 640x480 with 1 Axes>"
      ]
     },
     "metadata": {},
     "output_type": "display_data"
    }
   ],
   "source": [
    "plt.plot(pred_a[0:500], color=\"blue\")\n",
    "plt.plot(pred_b[0:500], color=\"red\")\n",
    "plt.plot(pred_c[0:500], color=\"green\")"
   ]
  },
  {
   "cell_type": "code",
   "execution_count": 536,
   "metadata": {
    "scrolled": true
   },
   "outputs": [
    {
     "data": {
      "text/plain": [
       "720"
      ]
     },
     "execution_count": 536,
     "metadata": {},
     "output_type": "execute_result"
    }
   ],
   "source": [
    "len(pred_a)"
   ]
  },
  {
   "cell_type": "code",
   "execution_count": 537,
   "metadata": {},
   "outputs": [
    {
     "data": {
      "text/html": [
       "<div>\n",
       "<style scoped>\n",
       "    .dataframe tbody tr th:only-of-type {\n",
       "        vertical-align: middle;\n",
       "    }\n",
       "\n",
       "    .dataframe tbody tr th {\n",
       "        vertical-align: top;\n",
       "    }\n",
       "\n",
       "    .dataframe thead th {\n",
       "        text-align: right;\n",
       "    }\n",
       "</style>\n",
       "<table border=\"1\" class=\"dataframe\">\n",
       "  <thead>\n",
       "    <tr style=\"text-align: right;\">\n",
       "      <th></th>\n",
       "      <th>id</th>\n",
       "      <th>time</th>\n",
       "      <th>prediction</th>\n",
       "      <th>location</th>\n",
       "    </tr>\n",
       "  </thead>\n",
       "  <tbody>\n",
       "    <tr>\n",
       "      <th>0</th>\n",
       "      <td>0</td>\n",
       "      <td>2023-05-01 00:00:00</td>\n",
       "      <td>0</td>\n",
       "      <td>A</td>\n",
       "    </tr>\n",
       "    <tr>\n",
       "      <th>1</th>\n",
       "      <td>1</td>\n",
       "      <td>2023-05-01 01:00:00</td>\n",
       "      <td>0</td>\n",
       "      <td>A</td>\n",
       "    </tr>\n",
       "    <tr>\n",
       "      <th>2</th>\n",
       "      <td>2</td>\n",
       "      <td>2023-05-01 02:00:00</td>\n",
       "      <td>0</td>\n",
       "      <td>A</td>\n",
       "    </tr>\n",
       "    <tr>\n",
       "      <th>3</th>\n",
       "      <td>3</td>\n",
       "      <td>2023-05-01 03:00:00</td>\n",
       "      <td>0</td>\n",
       "      <td>A</td>\n",
       "    </tr>\n",
       "    <tr>\n",
       "      <th>4</th>\n",
       "      <td>4</td>\n",
       "      <td>2023-05-01 04:00:00</td>\n",
       "      <td>0</td>\n",
       "      <td>A</td>\n",
       "    </tr>\n",
       "    <tr>\n",
       "      <th>...</th>\n",
       "      <td>...</td>\n",
       "      <td>...</td>\n",
       "      <td>...</td>\n",
       "      <td>...</td>\n",
       "    </tr>\n",
       "    <tr>\n",
       "      <th>2155</th>\n",
       "      <td>2155</td>\n",
       "      <td>2023-07-03 19:00:00</td>\n",
       "      <td>0</td>\n",
       "      <td>C</td>\n",
       "    </tr>\n",
       "    <tr>\n",
       "      <th>2156</th>\n",
       "      <td>2156</td>\n",
       "      <td>2023-07-03 20:00:00</td>\n",
       "      <td>0</td>\n",
       "      <td>C</td>\n",
       "    </tr>\n",
       "    <tr>\n",
       "      <th>2157</th>\n",
       "      <td>2157</td>\n",
       "      <td>2023-07-03 21:00:00</td>\n",
       "      <td>0</td>\n",
       "      <td>C</td>\n",
       "    </tr>\n",
       "    <tr>\n",
       "      <th>2158</th>\n",
       "      <td>2158</td>\n",
       "      <td>2023-07-03 22:00:00</td>\n",
       "      <td>0</td>\n",
       "      <td>C</td>\n",
       "    </tr>\n",
       "    <tr>\n",
       "      <th>2159</th>\n",
       "      <td>2159</td>\n",
       "      <td>2023-07-03 23:00:00</td>\n",
       "      <td>0</td>\n",
       "      <td>C</td>\n",
       "    </tr>\n",
       "  </tbody>\n",
       "</table>\n",
       "<p>2160 rows × 4 columns</p>\n",
       "</div>"
      ],
      "text/plain": [
       "        id                 time  prediction location\n",
       "0        0  2023-05-01 00:00:00           0        A\n",
       "1        1  2023-05-01 01:00:00           0        A\n",
       "2        2  2023-05-01 02:00:00           0        A\n",
       "3        3  2023-05-01 03:00:00           0        A\n",
       "4        4  2023-05-01 04:00:00           0        A\n",
       "...    ...                  ...         ...      ...\n",
       "2155  2155  2023-07-03 19:00:00           0        C\n",
       "2156  2156  2023-07-03 20:00:00           0        C\n",
       "2157  2157  2023-07-03 21:00:00           0        C\n",
       "2158  2158  2023-07-03 22:00:00           0        C\n",
       "2159  2159  2023-07-03 23:00:00           0        C\n",
       "\n",
       "[2160 rows x 4 columns]"
      ]
     },
     "execution_count": 537,
     "metadata": {},
     "output_type": "execute_result"
    }
   ],
   "source": [
    "test = pd.read_csv('test.csv')\n",
    "\n",
    "test"
   ]
  },
  {
   "cell_type": "code",
   "execution_count": 538,
   "metadata": {},
   "outputs": [
    {
     "data": {
      "text/html": [
       "<div>\n",
       "<style scoped>\n",
       "    .dataframe tbody tr th:only-of-type {\n",
       "        vertical-align: middle;\n",
       "    }\n",
       "\n",
       "    .dataframe tbody tr th {\n",
       "        vertical-align: top;\n",
       "    }\n",
       "\n",
       "    .dataframe thead th {\n",
       "        text-align: right;\n",
       "    }\n",
       "</style>\n",
       "<table border=\"1\" class=\"dataframe\">\n",
       "  <thead>\n",
       "    <tr style=\"text-align: right;\">\n",
       "      <th></th>\n",
       "      <th>id</th>\n",
       "      <th>prediction</th>\n",
       "    </tr>\n",
       "  </thead>\n",
       "  <tbody>\n",
       "    <tr>\n",
       "      <th>0</th>\n",
       "      <td>0</td>\n",
       "      <td>0</td>\n",
       "    </tr>\n",
       "    <tr>\n",
       "      <th>1</th>\n",
       "      <td>1</td>\n",
       "      <td>0</td>\n",
       "    </tr>\n",
       "    <tr>\n",
       "      <th>2</th>\n",
       "      <td>2</td>\n",
       "      <td>0</td>\n",
       "    </tr>\n",
       "    <tr>\n",
       "      <th>3</th>\n",
       "      <td>3</td>\n",
       "      <td>0</td>\n",
       "    </tr>\n",
       "    <tr>\n",
       "      <th>4</th>\n",
       "      <td>4</td>\n",
       "      <td>0</td>\n",
       "    </tr>\n",
       "    <tr>\n",
       "      <th>...</th>\n",
       "      <td>...</td>\n",
       "      <td>...</td>\n",
       "    </tr>\n",
       "    <tr>\n",
       "      <th>2155</th>\n",
       "      <td>2155</td>\n",
       "      <td>0</td>\n",
       "    </tr>\n",
       "    <tr>\n",
       "      <th>2156</th>\n",
       "      <td>2156</td>\n",
       "      <td>0</td>\n",
       "    </tr>\n",
       "    <tr>\n",
       "      <th>2157</th>\n",
       "      <td>2157</td>\n",
       "      <td>0</td>\n",
       "    </tr>\n",
       "    <tr>\n",
       "      <th>2158</th>\n",
       "      <td>2158</td>\n",
       "      <td>0</td>\n",
       "    </tr>\n",
       "    <tr>\n",
       "      <th>2159</th>\n",
       "      <td>2159</td>\n",
       "      <td>0</td>\n",
       "    </tr>\n",
       "  </tbody>\n",
       "</table>\n",
       "<p>2160 rows × 2 columns</p>\n",
       "</div>"
      ],
      "text/plain": [
       "        id  prediction\n",
       "0        0           0\n",
       "1        1           0\n",
       "2        2           0\n",
       "3        3           0\n",
       "4        4           0\n",
       "...    ...         ...\n",
       "2155  2155           0\n",
       "2156  2156           0\n",
       "2157  2157           0\n",
       "2158  2158           0\n",
       "2159  2159           0\n",
       "\n",
       "[2160 rows x 2 columns]"
      ]
     },
     "execution_count": 538,
     "metadata": {},
     "output_type": "execute_result"
    }
   ],
   "source": [
    "sample_submission = pd.read_csv('sample_submission.csv')\n",
    "sample_submission"
   ]
  },
  {
   "cell_type": "code",
   "execution_count": 539,
   "metadata": {},
   "outputs": [],
   "source": [
    "submit = np.concatenate((np.concatenate((pred_a, pred_b)),pred_c))"
   ]
  },
  {
   "cell_type": "code",
   "execution_count": 540,
   "metadata": {},
   "outputs": [],
   "source": [
    "# Example, let the predictions be random values\n",
    "test['prediction'] = submit\n",
    "sample_submission = sample_submission[['id']].merge(test[['id', 'prediction']], on='id', how='left')\n",
    "sample_submission.to_csv('my_first_submission.csv', index=False)"
   ]
  },
  {
   "cell_type": "code",
   "execution_count": 5,
   "metadata": {},
   "outputs": [],
   "source": []
  }
 ],
 "metadata": {
  "kernelspec": {
   "display_name": "Python [conda env:tf]",
   "language": "python",
   "name": "conda-env-tf-py"
  },
  "language_info": {
   "codemirror_mode": {
    "name": "ipython",
    "version": 3
   },
   "file_extension": ".py",
   "mimetype": "text/x-python",
   "name": "python",
   "nbconvert_exporter": "python",
   "pygments_lexer": "ipython3",
   "version": "3.10.13"
  }
 },
 "nbformat": 4,
 "nbformat_minor": 2
}
