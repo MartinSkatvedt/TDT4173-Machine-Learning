{
 "cells": [
  {
   "cell_type": "code",
   "execution_count": 1,
   "metadata": {
    "scrolled": false
   },
   "outputs": [],
   "source": [
    "import os\n",
    "import pandas as pd\n",
    "import numpy as np\n",
    "import matplotlib.pylab as plt\n",
    "%matplotlib inline\n",
    "import seaborn as sns\n",
    "import tensorflow as tf\n",
    "import math\n",
    "\n",
    "from keras.models import Sequential\n",
    "from keras.layers import LSTM, Dense\n",
    "\n",
    "pd.set_option('display.max_rows', 200)\n",
    "pd.set_option('display.max_columns', 200)\n",
    "\n",
    "os.environ['KMP_DUPLICATE_LIB_OK'] = 'True'"
   ]
  },
  {
   "cell_type": "code",
   "execution_count": 2,
   "metadata": {},
   "outputs": [],
   "source": [
    "def quartersToHours(data):\n",
    "    data['date_forecast'] = pd.to_datetime(data['date_forecast'], format='%Y-%m.%d %H:%M:%S')\n",
    "    data[\"year\"] = data['date_forecast'].dt.year\n",
    "    data[\"month\"] = data['date_forecast'].dt.month\n",
    "    data[\"day\"] = data['date_forecast'].dt.day\n",
    "    data[\"hour\"] = data['date_forecast'].dt.hour\n",
    "\n",
    "\n",
    "    group = data.groupby([data[\"year\"], data[\"month\"], data[\"day\"], data[\"hour\"]])  \n",
    "    result = group.mean()\n",
    "    result = result.reset_index()\n",
    "    \n",
    "    return_df = result.drop(['year','month', 'day', 'hour'], axis=1)\n",
    "    \n",
    "    return return_df"
   ]
  },
  {
   "cell_type": "code",
   "execution_count": 3,
   "metadata": {},
   "outputs": [],
   "source": [
    "def join_data_and_labels(train, val, labels):\n",
    "    \n",
    "    #Remove hour and minute values\n",
    "    val = val.assign(date_forecast=val.date_forecast.dt.round('H'))\n",
    "    train = train.assign(date_forecast=train.date_forecast.dt.round('H'))\n",
    "    \n",
    "    #rename columns names to match\n",
    "    \n",
    "    train = train.rename(columns={'date_forecast': 'date'})\n",
    "    val = val.rename(columns={'date_forecast': 'date'})\n",
    "    labels = labels.rename(columns={'time': 'date'})\n",
    "    \n",
    "    joined_train = pd.merge(train, labels, how=\"inner\", on=\"date\")\n",
    "    joined_val = pd.merge(val, labels, how=\"inner\", on=\"date\")\n",
    "\n",
    "    \n",
    "    return joined_train, joined_val"
   ]
  },
  {
   "cell_type": "code",
   "execution_count": 4,
   "metadata": {},
   "outputs": [],
   "source": [
    "def remove_unused_columns(df):\n",
    "    df = df.drop(['wind_speed_10m:ms', 'elevation:m', 'wind_speed_u_10m:ms', 'wind_speed_v_10m:ms',\n",
    "                 'wind_speed_w_1000hPa:ms'], axis=1)\n",
    "    return df"
   ]
  },
  {
   "cell_type": "code",
   "execution_count": 5,
   "metadata": {},
   "outputs": [],
   "source": [
    "def drop_constanst_columns(train, val, test):\n",
    "    constanst_columns = []\n",
    "    # Remove constants\n",
    "    for key, value in test.std().items():\n",
    "        if value == 0.0:\n",
    "            constanst_columns.append(key)\n",
    "\n",
    "    #for key in constanst_columns:\n",
    "    #    if val.std()[key] != 0.0 or test.std()[key] != 0.0:\n",
    "    #        constanst_columns.remove(key)\n",
    "    print(constanst_columns)\n",
    "    train.drop(constanst_columns, axis=1,inplace=True)\n",
    "    val.drop(constanst_columns, axis=1,inplace=True)\n",
    "    test.drop(constanst_columns, axis=1,inplace=True)"
   ]
  },
  {
   "cell_type": "code",
   "execution_count": 6,
   "metadata": {},
   "outputs": [],
   "source": [
    "def convert_date_to_sin_and_cos(df):\n",
    "    day = 24*60*60 #seconds in a day\n",
    "    year = (365.2425)*day #seconds in a year\n",
    "    month = year / 12.0\n",
    "\n",
    "    date_time = pd.to_datetime(df.pop('date'), format='%Y-%m.%d %H:%M:%S')\n",
    "    timestamp_s = date_time.map(pd.Timestamp.timestamp)\n",
    "\n",
    "    #df['Month sin'] = np.sin(timestamp_s * (2 * np.pi / month))\n",
    "    #df['Month cos'] = np.cos(timestamp_s * (2 * np.pi / month))\n",
    "    \n",
    "    df['Year sin'] = np.sin(timestamp_s * (2 * np.pi / year))\n",
    "    df['Year cos'] = np.cos(timestamp_s * (2 * np.pi / year))\n",
    "    \n",
    "    df['Hour sin'] = np.sin(timestamp_s * (2 * np.pi / day))\n",
    "    df['Hour cos'] = np.cos(timestamp_s * (2 * np.pi / day))"
   ]
  },
  {
   "cell_type": "code",
   "execution_count": 7,
   "metadata": {},
   "outputs": [],
   "source": [
    "def round_is_day(df):\n",
    "    df[\"is_day:idx\"] = [round(df[\"is_day:idx\"][i]) for i in range(len(df))]\n",
    "    df[\"is_in_shadow:idx\"] = [round(df[\"is_in_shadow:idx\"][i]) for i in range(len(df))]\n",
    "    "
   ]
  },
  {
   "cell_type": "code",
   "execution_count": 8,
   "metadata": {},
   "outputs": [],
   "source": [
    "def normalize_except_columns(df):\n",
    "    not_to_be_norm = [\"is_day:idx\", \"Year sin\", \"Year cos\", 'is_in_shadow:idx', 'Hour sin', 'Hour cos']\n",
    "    cols = df.columns.tolist()\n",
    "    cols_to_norm = [i for i in cols if i not in not_to_be_norm]\n",
    "    \n",
    "    df[cols_to_norm] = df[cols_to_norm].apply(lambda x: (x - x.min()) / (x.max() - x.min()))\n"
   ]
  },
  {
   "cell_type": "code",
   "execution_count": 9,
   "metadata": {},
   "outputs": [
    {
     "data": {
      "text/plain": [
       "[<matplotlib.lines.Line2D at 0x227956a1e70>]"
      ]
     },
     "execution_count": 9,
     "metadata": {},
     "output_type": "execute_result"
    },
    {
     "data": {
      "image/png": "[encoded data removed]",
      "text/plain": [
       "<Figure size 640x480 with 1 Axes>"
      ]
     },
     "metadata": {},
     "output_type": "display_data"
    }
   ],
   "source": [
    "train_a = pd.read_parquet('dataset/A/train_targets.parquet')\n",
    "train_b = pd.read_parquet('dataset/B/train_targets.parquet')\n",
    "train_c = pd.read_parquet('dataset/C/train_targets.parquet')\n",
    "\n",
    "plt.plot(train_a[\"pv_measurement\"][0:24 * 2])\n",
    "plt.plot(train_b[\"pv_measurement\"][0:24 * 2])\n",
    "plt.plot(train_c[\"pv_measurement\"][0:24 * 2])"
   ]
  },
  {
   "cell_type": "code",
   "execution_count": 10,
   "metadata": {},
   "outputs": [],
   "source": [
    "#a_max = train_a[\"pv_measurement\"].max()\n",
    "#b_max = train_b[\"pv_measurement\"].max()\n",
    "#c_max = train_c[\"pv_measurement\"].max()"
   ]
  },
  {
   "cell_type": "code",
   "execution_count": 11,
   "metadata": {},
   "outputs": [],
   "source": [
    "#Load data, sample to hours and drop columns which are not needed\n",
    "X_train_observed_a = quartersToHours(pd.read_parquet('dataset/A/X_train_observed.parquet')) #Train_x\n",
    "X_train_observed_b = quartersToHours(pd.read_parquet('dataset/B/X_train_observed.parquet'))\n",
    "X_train_observed_c = quartersToHours(pd.read_parquet('dataset/C/X_train_observed.parquet'))\n",
    "\n",
    "X_train_estimated_a = quartersToHours(pd.read_parquet('dataset/A/X_train_estimated.parquet')) # Val_x\n",
    "X_train_estimated_a = X_train_estimated_a.drop([\"date_calc\"], axis=1)\n",
    "\n",
    "X_train_estimated_b = quartersToHours(pd.read_parquet('dataset/B/X_train_estimated.parquet'))\n",
    "X_train_estimated_b = X_train_estimated_b.drop([\"date_calc\"], axis=1)\n",
    "\n",
    "X_train_estimated_c = quartersToHours(pd.read_parquet('dataset/C/X_train_estimated.parquet'))\n",
    "X_train_estimated_c = X_train_estimated_c.drop([\"date_calc\"], axis=1)\n",
    "\n",
    "X_test_estimated_a = quartersToHours(pd.read_parquet('dataset/A/X_test_estimated.parquet'))\n",
    "X_test_estimated_a = X_test_estimated_a.drop([\"date_calc\"], axis=1)\n",
    "test_a = X_test_estimated_a.rename(columns={'date_forecast': 'date'})\n",
    "\n",
    "X_test_estimated_b = quartersToHours(pd.read_parquet('dataset/B/X_test_estimated.parquet'))\n",
    "X_test_estimated_b = X_test_estimated_b.drop([\"date_calc\"], axis=1)\n",
    "test_b = X_test_estimated_b.rename(columns={'date_forecast': 'date'})\n",
    "\n",
    "X_test_estimated_c = quartersToHours(pd.read_parquet('dataset/C/X_test_estimated.parquet'))\n",
    "X_test_estimated_c = X_test_estimated_c.drop([\"date_calc\"], axis=1)\n",
    "test_c = X_test_estimated_c.rename(columns={'date_forecast': 'date'})"
   ]
  },
  {
   "cell_type": "code",
   "execution_count": 12,
   "metadata": {},
   "outputs": [],
   "source": [
    "# Join data and labels into one df\n",
    "train_data_a, val_data_a = join_data_and_labels(X_train_observed_a, X_train_estimated_a, train_a)\n",
    "train_data_b, val_data_b = join_data_and_labels(X_train_observed_b, X_train_estimated_b, train_b)\n",
    "train_data_c, val_data_c = join_data_and_labels(X_train_observed_c, X_train_estimated_c, train_c)"
   ]
  },
  {
   "cell_type": "code",
   "execution_count": 13,
   "metadata": {},
   "outputs": [],
   "source": [
    "# Remove columns which are not needed\n",
    "train_data_a = remove_unused_columns(train_data_a)\n",
    "val_data_a = remove_unused_columns(val_data_a)\n",
    "test_a = remove_unused_columns(test_a)\n",
    "\n",
    "train_data_b = remove_unused_columns(train_data_b)\n",
    "val_data_b = remove_unused_columns(val_data_b)\n",
    "test_b = remove_unused_columns(test_b)\n",
    "\n",
    "train_data_c = remove_unused_columns(train_data_c)\n",
    "val_data_c = remove_unused_columns(val_data_c)\n",
    "test_c = remove_unused_columns(test_c)"
   ]
  },
  {
   "cell_type": "code",
   "execution_count": 14,
   "metadata": {},
   "outputs": [],
   "source": [
    "# Convert date into sin and cos components\n",
    "convert_date_to_sin_and_cos(train_data_a)\n",
    "convert_date_to_sin_and_cos(val_data_a)\n",
    "convert_date_to_sin_and_cos(test_a)\n",
    "\n",
    "convert_date_to_sin_and_cos(train_data_b)\n",
    "convert_date_to_sin_and_cos(val_data_b)\n",
    "convert_date_to_sin_and_cos(test_b)\n",
    "\n",
    "convert_date_to_sin_and_cos(train_data_c)\n",
    "convert_date_to_sin_and_cos(val_data_c)\n",
    "convert_date_to_sin_and_cos(test_c)"
   ]
  },
  {
   "cell_type": "code",
   "execution_count": 15,
   "metadata": {},
   "outputs": [],
   "source": [
    "# Isday should be a binary value\n",
    "round_is_day(train_data_a)\n",
    "round_is_day(val_data_a)\n",
    "round_is_day(test_a)\n",
    "\n",
    "round_is_day(train_data_b)\n",
    "round_is_day(val_data_b)\n",
    "round_is_day(test_b)\n",
    "\n",
    "round_is_day(train_data_c)\n",
    "round_is_day(val_data_c)\n",
    "round_is_day(test_c)"
   ]
  },
  {
   "cell_type": "code",
   "execution_count": 16,
   "metadata": {},
   "outputs": [],
   "source": [
    "#normalize_except_columns(train_data_a)\n",
    "#normalize_except_columns(val_data_a)\n",
    "#normalize_except_columns(test_a)\n",
    "\n",
    "#normalize_except_columns(train_data_b)\n",
    "#normalize_except_columns(val_data_b)\n",
    "#normalize_except_columns(test_b)\n",
    "\n",
    "#normalize_except_columns(train_data_c)\n",
    "#normalize_except_columns(val_data_c)\n",
    "#normalize_except_columns(test_c)"
   ]
  },
  {
   "cell_type": "code",
   "execution_count": 17,
   "metadata": {},
   "outputs": [],
   "source": [
    "# Fill 0 for NaNs\n",
    "train_data_a = train_data_a.fillna(0)\n",
    "val_data_a = val_data_a.fillna(0)\n",
    "test_a = test_a.fillna(0)\n",
    "\n",
    "train_data_b = train_data_b.fillna(0)\n",
    "val_data_b = val_data_b.fillna(0)\n",
    "test_b = test_b.fillna(0)\n",
    "\n",
    "train_data_c = train_data_c.fillna(0)\n",
    "val_data_c = val_data_c.fillna(0)\n",
    "test_c = test_c.fillna(0)"
   ]
  },
  {
   "cell_type": "code",
   "execution_count": 18,
   "metadata": {},
   "outputs": [
    {
     "name": "stdout",
     "output_type": "stream",
     "text": [
      "['prob_rime:p', 'snow_density:kgm3', 'snow_depth:cm', 'snow_drift:idx', 'snow_melt_10min:mm']\n",
      "['fresh_snow_12h:cm', 'fresh_snow_1h:cm', 'fresh_snow_24h:cm', 'fresh_snow_3h:cm', 'fresh_snow_6h:cm', 'prob_rime:p', 'snow_density:kgm3', 'snow_depth:cm', 'snow_drift:idx', 'snow_melt_10min:mm']\n",
      "['snow_density:kgm3', 'snow_depth:cm', 'snow_drift:idx', 'snow_melt_10min:mm']\n"
     ]
    }
   ],
   "source": [
    "# Drop columns which are constant\n",
    "drop_constanst_columns(train_data_a, val_data_a, test_a)\n",
    "drop_constanst_columns(train_data_b, val_data_b, test_b)\n",
    "drop_constanst_columns(train_data_c, val_data_c, test_c)"
   ]
  },
  {
   "cell_type": "code",
   "execution_count": 19,
   "metadata": {},
   "outputs": [],
   "source": [
    "MAX_EPOCHS = 20\n",
    "\n",
    "def compile_and_fit(model, train_x, train_y, val_x, val_y, patience=3):\n",
    "    early_stopping = tf.keras.callbacks.EarlyStopping(monitor='val_loss',\n",
    "                                                    patience=4,\n",
    "                                                    mode='min',\n",
    "                                                    restore_best_weights=True)\n",
    "\n",
    "    model.compile(loss=tf.keras.losses.MeanSquaredError(),\n",
    "                optimizer=tf.keras.optimizers.RMSprop(),\n",
    "                metrics=[tf.keras.metrics.MeanAbsoluteError()])\n",
    "\n",
    "    history = model.fit(x= train_x, y=train_y, epochs=MAX_EPOCHS,\n",
    "                      validation_data=(val_x, val_y),\n",
    "                       callbacks=[early_stopping])\n",
    "    return history"
   ]
  },
  {
   "cell_type": "code",
   "execution_count": 20,
   "metadata": {},
   "outputs": [],
   "source": [
    "def split_and_batch(df):\n",
    "    df_labels = df.pop(\"pv_measurement\")\n",
    "    \n",
    "    BATCH_SIZE=60\n",
    "\n",
    "    df_arr = np.array(df, dtype=np.float32)\n",
    "    df_label_arr = np.array(df_labels, dtype=np.float32)\n",
    "\n",
    "    # Calculate the number of batches needed\n",
    "    num_batches = df_arr.shape[0] // BATCH_SIZE\n",
    "\n",
    "    # Reshape the 2D array into a 3D array with shape (num_batches, BATCH_SIZE, 48)\n",
    "    if df_arr.shape[0] % BATCH_SIZE == 0:\n",
    "        # If the data size is a multiple of BATCH_SIZE\n",
    "        data_3d = df_arr.reshape(num_batches, BATCH_SIZE, -1)\n",
    "        label_3d = df_label_arr.reshape(num_batches, BATCH_SIZE, -1)\n",
    "\n",
    "    else:\n",
    "        # If there's some remaining data that doesn't fit perfectly into batches\n",
    "        remaining_rows = df_arr.shape[0] % BATCH_SIZE\n",
    "        data_3d = df_arr[:-remaining_rows].reshape(num_batches, BATCH_SIZE, -1)\n",
    "        label_3d = df_label_arr[:-remaining_rows].reshape(num_batches, BATCH_SIZE, -1)\n",
    "\n",
    "    return data_3d, label_3d"
   ]
  },
  {
   "cell_type": "code",
   "execution_count": 21,
   "metadata": {},
   "outputs": [],
   "source": [
    "def batch(df):\n",
    "    BATCH_SIZE=60\n",
    "\n",
    "    df_arr = np.array(df, dtype=np.float32)\n",
    "\n",
    "    # Calculate the number of batches needed\n",
    "    num_batches = df_arr.shape[0] // BATCH_SIZE\n",
    "\n",
    "    # Reshape the 2D array into a 3D array with shape (num_batches, BATCH_SIZE, 48)\n",
    "    if df_arr.shape[0] % BATCH_SIZE == 0:\n",
    "        # If the data size is a multiple of BATCH_SIZE\n",
    "        data_3d = df_arr.reshape(num_batches, BATCH_SIZE, -1)\n",
    "\n",
    "    else:\n",
    "        # If there's some remaining data that doesn't fit perfectly into batches\n",
    "        remaining_rows = df_arr.shape[0] % BATCH_SIZE\n",
    "        data_3d = df_arr[:-remaining_rows].reshape(num_batches, BATCH_SIZE, -1)\n",
    "\n",
    "    return data_3d\n",
    "    "
   ]
  },
  {
   "cell_type": "code",
   "execution_count": 22,
   "metadata": {},
   "outputs": [],
   "source": [
    "train_a_x, train_a_y = split_and_batch(train_data_a)\n",
    "val_a_x, val_a_y = split_and_batch(val_data_a)\n",
    "\n",
    "train_b_x, train_b_y = split_and_batch(train_data_b)\n",
    "val_b_x, val_b_y = split_and_batch(val_data_b)\n",
    "\n",
    "train_c_x, train_c_y = split_and_batch(train_data_c)\n",
    "val_c_x, val_c_y = split_and_batch(val_data_c)\n",
    "\n",
    "test_a = batch(test_a)\n",
    "test_b = batch(test_b)\n",
    "test_c = batch(test_c)"
   ]
  },
  {
   "cell_type": "code",
   "execution_count": 23,
   "metadata": {},
   "outputs": [
    {
     "data": {
      "text/plain": [
       "array([[[ 4.3250003e+00,  1.2867500e+00,  9.1270001e+02, ...,\n",
       "         -4.7621313e-01,  9.8017141e-02,  9.9518472e-01],\n",
       "        [ 4.2750001e+00,  1.2860000e+00,  1.4821000e+03, ...,\n",
       "         -4.7684330e-01,  3.5225004e-01,  9.3590593e-01],\n",
       "        [ 4.1499996e+00,  1.2837501e+00,  1.7913000e+03, ...,\n",
       "         -4.7747323e-01,  5.8247769e-01,  8.1284666e-01],\n",
       "        ...,\n",
       "        [ 8.3000002e+00,  1.2135000e+00,  0.0000000e+00, ...,\n",
       "         -6.6420531e-01,  6.3439327e-01, -7.7301043e-01],\n",
       "        [ 8.1499996e+00,  1.2082500e+00,  0.0000000e+00, ...,\n",
       "         -6.6474098e-01,  4.1270703e-01, -9.1086382e-01],\n",
       "        [ 7.5500002e+00,  1.2057500e+00,  2.4631001e+03, ...,\n",
       "         -6.6527629e-01,  1.6289547e-01, -9.8664331e-01]],\n",
       "\n",
       "       [[ 6.8249998e+00,  1.2040000e+00,  2.5357000e+03, ...,\n",
       "         -6.6581130e-01, -9.8017141e-02, -9.9518472e-01],\n",
       "        [ 6.6500001e+00,  1.2014999e+00,  2.6567000e+03, ...,\n",
       "         -6.6634589e-01, -3.5225004e-01, -9.3590593e-01],\n",
       "        [ 7.3000002e+00,  1.2052500e+00,  0.0000000e+00, ...,\n",
       "         -6.6688019e-01, -5.8247769e-01, -8.1284666e-01],\n",
       "        ...,\n",
       "        [ 8.1750002e+00,  1.2495000e+00,  0.0000000e+00, ...,\n",
       "         -7.4347281e-01, -6.3439327e-01,  7.7301043e-01],\n",
       "        [ 8.1999998e+00,  1.2547500e+00,  0.0000000e+00, ...,\n",
       "         -7.4395198e-01, -4.1270703e-01,  9.1086382e-01],\n",
       "        [ 8.1250000e+00,  1.2570000e+00,  0.0000000e+00, ...,\n",
       "         -7.4443078e-01, -1.6289547e-01,  9.8664331e-01]],\n",
       "\n",
       "       [[ 7.9749999e+00,  1.2587500e+00,  0.0000000e+00, ...,\n",
       "         -7.4490917e-01,  9.8017141e-02,  9.9518472e-01],\n",
       "        [ 7.8000002e+00,  1.2600000e+00,  0.0000000e+00, ...,\n",
       "         -7.4538720e-01,  3.5225004e-01,  9.3590593e-01],\n",
       "        [ 7.6999998e+00,  1.2612500e+00,  0.0000000e+00, ...,\n",
       "         -7.4586481e-01,  5.8247769e-01,  8.1284666e-01],\n",
       "        ...,\n",
       "        [ 7.4000001e+00,  1.2622499e+00,  5.9059998e+02, ...,\n",
       "         -7.7153808e-01,  6.3439327e-01, -7.7301043e-01],\n",
       "        [ 7.4499998e+00,  1.2620000e+00,  6.2579999e+02, ...,\n",
       "         -7.7199388e-01,  4.1270703e-01, -9.1086382e-01],\n",
       "        [ 7.5000000e+00,  1.2600000e+00,  7.2402502e+02, ...,\n",
       "         -7.7244925e-01,  1.6289547e-01, -9.8664331e-01]],\n",
       "\n",
       "       ...,\n",
       "\n",
       "       [[ 1.2400000e+01,  1.1845000e+00,  3.9696001e+03, ...,\n",
       "         -9.7525698e-01, -9.8017141e-02, -9.9518472e-01],\n",
       "        [ 1.1850000e+01,  1.1752501e+00,  7.0761001e+03, ...,\n",
       "         -9.7541523e-01, -3.5225004e-01, -9.3590593e-01],\n",
       "        [ 1.1525000e+01,  1.1690000e+00,  7.0761001e+03, ...,\n",
       "         -9.7557294e-01, -5.8247769e-01, -8.1284666e-01],\n",
       "        ...,\n",
       "        [ 1.0200000e+01,  1.1790000e+00,  0.0000000e+00, ...,\n",
       "         -9.9539119e-01, -6.3439327e-01,  7.7301043e-01],\n",
       "        [ 1.0175000e+01,  1.1845000e+00,  0.0000000e+00, ...,\n",
       "         -9.9545968e-01, -4.1270703e-01,  9.1086382e-01],\n",
       "        [ 1.0200000e+01,  1.1885000e+00,  0.0000000e+00, ...,\n",
       "         -9.9552763e-01, -1.6289547e-01,  9.8664331e-01]],\n",
       "\n",
       "       [[ 1.0000000e+01,  1.2285000e+00,  1.3299000e+03, ...,\n",
       "         -9.9706060e-01,  9.8017141e-02,  9.9518472e-01],\n",
       "        [ 1.0000000e+01,  1.2280000e+00,  0.0000000e+00, ...,\n",
       "         -9.9711525e-01,  3.5225004e-01,  9.3590593e-01],\n",
       "        [ 1.0025000e+01,  1.2255000e+00,  0.0000000e+00, ...,\n",
       "         -9.9716944e-01,  5.8247769e-01,  8.1284666e-01],\n",
       "        ...,\n",
       "        [ 1.0625000e+01,  1.2172500e+00,  1.2874750e+03, ...,\n",
       "         -9.9935800e-01,  6.3439327e-01, -7.7301043e-01],\n",
       "        [ 1.0550000e+01,  1.2172500e+00,  1.3711500e+03, ...,\n",
       "         -9.9938339e-01,  4.1270703e-01, -9.1086382e-01],\n",
       "        [ 1.0500000e+01,  1.2170000e+00,  1.1347750e+03, ...,\n",
       "         -9.9940830e-01,  1.6289547e-01, -9.8664331e-01]],\n",
       "\n",
       "       [[ 1.0400000e+01,  1.2180001e+00,  1.0844000e+03, ...,\n",
       "         -9.9943268e-01, -9.8017141e-02, -9.9518472e-01],\n",
       "        [ 1.0200000e+01,  1.2177501e+00,  1.5264000e+03, ...,\n",
       "         -9.9945658e-01, -3.5225004e-01, -9.3590593e-01],\n",
       "        [ 9.9750004e+00,  1.2175000e+00,  1.7395500e+03, ...,\n",
       "         -9.9947995e-01, -5.8247769e-01, -8.1284666e-01],\n",
       "        ...,\n",
       "        [ 8.8249998e+00,  1.2045000e+00,  2.3150000e+03, ...,\n",
       "         -9.9970299e-01, -6.3439327e-01,  7.7301043e-01],\n",
       "        [ 9.0249996e+00,  1.2070000e+00,  2.2028000e+03, ...,\n",
       "         -9.9968523e-01, -4.1270703e-01,  9.1086382e-01],\n",
       "        [ 9.0500002e+00,  1.2077500e+00,  2.0156750e+03, ...,\n",
       "         -9.9966699e-01, -1.6289547e-01,  9.8664331e-01]]], dtype=float32)"
      ]
     },
     "execution_count": 23,
     "metadata": {},
     "output_type": "execute_result"
    }
   ],
   "source": [
    "test_a"
   ]
  },
  {
   "cell_type": "code",
   "execution_count": 34,
   "metadata": {},
   "outputs": [],
   "source": [
    "lstm_model_a = tf.keras.models.Sequential([ \n",
    "    tf.keras.layers.BatchNormalization(),\n",
    "    tf.keras.layers.Bidirectional(\n",
    "        tf.keras.layers.LSTM(60, return_sequences=True, kernel_initializer=tf.keras.initializers.GlorotNormal(),\n",
    "                    bias_initializer='zeros')\n",
    "    ),\n",
    "    tf.keras.layers.Bidirectional(tf.keras.layers.LSTM(32, return_sequences=True, dropout=0.5)\n",
    "    ),\n",
    "    #tf.keras.layers.LSTM(64, return_sequences=True),\n",
    "    #tf.keras.layers.Dense(units=48),\n",
    "    #tf.keras.layers.Dense(units=32),\n",
    "\n",
    "    tf.keras.layers.Dense(units=1, activation=\"relu\")\n",
    "])\n",
    "\n",
    "lstm_model_b = tf.keras.models.clone_model(lstm_model_a)\n",
    "lstm_model_c = tf.keras.models.clone_model(lstm_model_b)"
   ]
  },
  {
   "cell_type": "code",
   "execution_count": 35,
   "metadata": {},
   "outputs": [
    {
     "name": "stdout",
     "output_type": "stream",
     "text": [
      "Epoch 1/20\n",
      "16/16 [==============================] - 16s 305ms/step - loss: 1879760.1250 - mean_absolute_error: 673.6207 - val_loss: 899488.3750 - val_mean_absolute_error: 339.2903\n",
      "Epoch 2/20\n",
      "16/16 [==============================] - 2s 115ms/step - loss: 1871465.7500 - mean_absolute_error: 673.5526 - val_loss: 897479.0625 - val_mean_absolute_error: 340.2340\n",
      "Epoch 3/20\n",
      "16/16 [==============================] - 2s 115ms/step - loss: 1868551.7500 - mean_absolute_error: 673.8237 - val_loss: 896350.8125 - val_mean_absolute_error: 340.7025\n",
      "Epoch 4/20\n",
      "16/16 [==============================] - 2s 117ms/step - loss: 1866737.3750 - mean_absolute_error: 673.8519 - val_loss: 895203.3125 - val_mean_absolute_error: 341.1884\n",
      "Epoch 5/20\n",
      "16/16 [==============================] - 2s 116ms/step - loss: 1865204.6250 - mean_absolute_error: 673.8655 - val_loss: 894097.4375 - val_mean_absolute_error: 341.5620\n",
      "Epoch 6/20\n",
      "16/16 [==============================] - 2s 122ms/step - loss: 1863781.1250 - mean_absolute_error: 673.8464 - val_loss: 894046.0625 - val_mean_absolute_error: 341.6409\n",
      "Epoch 7/20\n",
      "16/16 [==============================] - 2s 115ms/step - loss: 1862402.6250 - mean_absolute_error: 673.7941 - val_loss: 893310.4375 - val_mean_absolute_error: 342.1794\n",
      "Epoch 8/20\n",
      "16/16 [==============================] - 2s 116ms/step - loss: 1861019.1250 - mean_absolute_error: 673.8593 - val_loss: 892556.1875 - val_mean_absolute_error: 342.4376\n",
      "Epoch 9/20\n",
      "16/16 [==============================] - 2s 116ms/step - loss: 1859656.0000 - mean_absolute_error: 673.8356 - val_loss: 892056.5625 - val_mean_absolute_error: 342.7781\n",
      "Epoch 10/20\n",
      "16/16 [==============================] - 2s 116ms/step - loss: 1858298.0000 - mean_absolute_error: 673.8669 - val_loss: 891569.1875 - val_mean_absolute_error: 343.0011\n",
      "Epoch 11/20\n",
      "16/16 [==============================] - 2s 123ms/step - loss: 1856946.6250 - mean_absolute_error: 673.8235 - val_loss: 891062.4375 - val_mean_absolute_error: 343.1993\n",
      "Epoch 12/20\n",
      "16/16 [==============================] - 2s 117ms/step - loss: 1855601.5000 - mean_absolute_error: 673.5740 - val_loss: 889729.8125 - val_mean_absolute_error: 343.7672\n",
      "Epoch 13/20\n",
      "16/16 [==============================] - 2s 118ms/step - loss: 1854252.1250 - mean_absolute_error: 673.6613 - val_loss: 888548.8125 - val_mean_absolute_error: 344.4813\n",
      "Epoch 14/20\n",
      "16/16 [==============================] - 2s 118ms/step - loss: 1852904.5000 - mean_absolute_error: 673.5400 - val_loss: 888091.4375 - val_mean_absolute_error: 344.5552\n",
      "Epoch 15/20\n",
      "16/16 [==============================] - 2s 119ms/step - loss: 1851581.1250 - mean_absolute_error: 673.7573 - val_loss: 887171.0625 - val_mean_absolute_error: 345.5209\n",
      "Epoch 16/20\n",
      "16/16 [==============================] - 2s 118ms/step - loss: 1850253.3750 - mean_absolute_error: 673.6381 - val_loss: 886517.5625 - val_mean_absolute_error: 345.8910\n",
      "Epoch 17/20\n",
      "16/16 [==============================] - 2s 118ms/step - loss: 1848929.1250 - mean_absolute_error: 673.4478 - val_loss: 885866.9375 - val_mean_absolute_error: 346.2658\n",
      "Epoch 18/20\n",
      "16/16 [==============================] - 2s 122ms/step - loss: 1847568.3750 - mean_absolute_error: 673.5372 - val_loss: 885211.8125 - val_mean_absolute_error: 346.8597\n",
      "Epoch 19/20\n",
      "16/16 [==============================] - 2s 122ms/step - loss: 1846254.2500 - mean_absolute_error: 673.4907 - val_loss: 884610.0000 - val_mean_absolute_error: 346.7468\n",
      "Epoch 20/20\n",
      "16/16 [==============================] - 2s 129ms/step - loss: 1844956.6250 - mean_absolute_error: 673.1808 - val_loss: 883949.6250 - val_mean_absolute_error: 346.7495\n",
      "3/3 [==============================] - 0s 32ms/step - loss: 883949.6250 - mean_absolute_error: 346.7495\n",
      "measure a: [883949.625, 346.74945068359375]\n"
     ]
    }
   ],
   "source": [
    "history_a = compile_and_fit(lstm_model_a,train_a_x, train_a_y, val_a_x, val_a_y)\n",
    "print(f'measure a: {lstm_model_a.evaluate(val_a_x, val_a_y)}')\n",
    "\n",
    "#[0.006232030689716339, 0.03161332383751869]\n",
    "#[0.005147780757397413, 0.028607070446014404] -> year and day\n",
    "#[0.004300971981137991, 0.02555842511355877]\n",
    "#0.02291605807840824\n"
   ]
  },
  {
   "cell_type": "code",
   "execution_count": 36,
   "metadata": {},
   "outputs": [
    {
     "name": "stdout",
     "output_type": "stream",
     "text": [
      "Epoch 1/20\n",
      "16/16 [==============================] - 17s 330ms/step - loss: 49092.8320 - mean_absolute_error: 101.6760 - val_loss: 21231.1738 - val_mean_absolute_error: 53.2723\n",
      "Epoch 2/20\n",
      "16/16 [==============================] - 2s 114ms/step - loss: 47999.3164 - mean_absolute_error: 100.8448 - val_loss: 20898.7891 - val_mean_absolute_error: 55.0022\n",
      "Epoch 3/20\n",
      "16/16 [==============================] - 2s 113ms/step - loss: 47587.3438 - mean_absolute_error: 100.9696 - val_loss: 20746.3398 - val_mean_absolute_error: 55.7513\n",
      "Epoch 4/20\n",
      "16/16 [==============================] - 2s 114ms/step - loss: 47326.4883 - mean_absolute_error: 101.4277 - val_loss: 20645.5449 - val_mean_absolute_error: 56.3808\n",
      "Epoch 5/20\n",
      "16/16 [==============================] - 2s 115ms/step - loss: 47126.9922 - mean_absolute_error: 101.1145 - val_loss: 20569.9668 - val_mean_absolute_error: 56.6301\n",
      "Epoch 6/20\n",
      "16/16 [==============================] - 2s 115ms/step - loss: 46936.6680 - mean_absolute_error: 100.9819 - val_loss: 20503.3047 - val_mean_absolute_error: 57.2382\n",
      "Epoch 7/20\n",
      "16/16 [==============================] - 2s 117ms/step - loss: 46759.6680 - mean_absolute_error: 101.0063 - val_loss: 20482.3047 - val_mean_absolute_error: 57.1803\n",
      "Epoch 8/20\n",
      "16/16 [==============================] - 2s 116ms/step - loss: 46578.4805 - mean_absolute_error: 100.9659 - val_loss: 20471.4570 - val_mean_absolute_error: 57.4300\n",
      "Epoch 9/20\n",
      "16/16 [==============================] - 2s 116ms/step - loss: 46405.2969 - mean_absolute_error: 100.7695 - val_loss: 20447.8086 - val_mean_absolute_error: 57.3404\n",
      "Epoch 10/20\n",
      "16/16 [==============================] - 2s 122ms/step - loss: 46225.6172 - mean_absolute_error: 100.7643 - val_loss: 20420.4395 - val_mean_absolute_error: 57.0010\n",
      "Epoch 11/20\n",
      "16/16 [==============================] - 2s 120ms/step - loss: 46047.3281 - mean_absolute_error: 100.5808 - val_loss: 20263.1523 - val_mean_absolute_error: 58.0218\n",
      "Epoch 12/20\n",
      "16/16 [==============================] - 2s 116ms/step - loss: 45868.1328 - mean_absolute_error: 100.4644 - val_loss: 20181.2715 - val_mean_absolute_error: 54.6557\n",
      "Epoch 13/20\n",
      "16/16 [==============================] - 2s 117ms/step - loss: 45694.1914 - mean_absolute_error: 100.3277 - val_loss: 20656.9355 - val_mean_absolute_error: 52.6697\n",
      "Epoch 14/20\n",
      "16/16 [==============================] - 2s 125ms/step - loss: 45522.1055 - mean_absolute_error: 100.6281 - val_loss: 19927.8867 - val_mean_absolute_error: 58.0151\n",
      "Epoch 15/20\n",
      "16/16 [==============================] - 2s 130ms/step - loss: 45351.7500 - mean_absolute_error: 100.7710 - val_loss: 19930.7148 - val_mean_absolute_error: 55.9711\n",
      "Epoch 16/20\n",
      "16/16 [==============================] - 2s 127ms/step - loss: 45189.3711 - mean_absolute_error: 100.5078 - val_loss: 19849.3926 - val_mean_absolute_error: 56.3236\n",
      "Epoch 17/20\n",
      "16/16 [==============================] - 2s 117ms/step - loss: 45025.9414 - mean_absolute_error: 100.2728 - val_loss: 20057.9668 - val_mean_absolute_error: 55.2644\n",
      "Epoch 18/20\n",
      "16/16 [==============================] - 2s 117ms/step - loss: 44857.0547 - mean_absolute_error: 100.2023 - val_loss: 19648.5547 - val_mean_absolute_error: 57.5710\n",
      "Epoch 19/20\n",
      "16/16 [==============================] - 2s 117ms/step - loss: 44689.7969 - mean_absolute_error: 100.3260 - val_loss: 19480.1152 - val_mean_absolute_error: 56.8016\n",
      "Epoch 20/20\n",
      "16/16 [==============================] - 2s 117ms/step - loss: 44533.6797 - mean_absolute_error: 99.9708 - val_loss: 19907.2910 - val_mean_absolute_error: 54.0979\n",
      "2/2 [==============================] - 0s 34ms/step - loss: 19907.2910 - mean_absolute_error: 54.0979\n",
      "measure b: [19907.291015625, 54.09785079956055]\n"
     ]
    }
   ],
   "source": [
    "history_b = compile_and_fit(lstm_model_b,train_b_x, train_b_y, val_b_x, val_b_y)\n",
    "print(f'measure b: {lstm_model_b.evaluate(val_b_x, val_b_y)}')\n",
    "\n",
    "#[0.007145202253013849, 0.03178989142179489]\n",
    "#[0.008217844180762768, 0.03327266126871109]\n",
    "#[0.0067342291586101055, 0.030065299943089485]"
   ]
  },
  {
   "cell_type": "code",
   "execution_count": 37,
   "metadata": {},
   "outputs": [
    {
     "name": "stdout",
     "output_type": "stream",
     "text": [
      "Epoch 1/20\n",
      "16/16 [==============================] - 17s 319ms/step - loss: 28218.5527 - mean_absolute_error: 65.5302 - val_loss: 12474.6553 - val_mean_absolute_error: 42.8512\n",
      "Epoch 2/20\n",
      "16/16 [==============================] - 2s 118ms/step - loss: 27598.2129 - mean_absolute_error: 66.1521 - val_loss: 12327.4033 - val_mean_absolute_error: 43.7761\n",
      "Epoch 3/20\n",
      "16/16 [==============================] - 2s 117ms/step - loss: 27357.3965 - mean_absolute_error: 67.0282 - val_loss: 12244.5791 - val_mean_absolute_error: 44.3402\n",
      "Epoch 4/20\n",
      "16/16 [==============================] - 2s 118ms/step - loss: 27215.1211 - mean_absolute_error: 67.1257 - val_loss: 12194.1406 - val_mean_absolute_error: 44.5910\n",
      "Epoch 5/20\n",
      "16/16 [==============================] - 2s 119ms/step - loss: 27093.5684 - mean_absolute_error: 67.3000 - val_loss: 12108.0654 - val_mean_absolute_error: 45.2776\n",
      "Epoch 6/20\n",
      "16/16 [==============================] - 2s 120ms/step - loss: 26977.1211 - mean_absolute_error: 67.4939 - val_loss: 12031.6250 - val_mean_absolute_error: 45.8408\n",
      "Epoch 7/20\n",
      "16/16 [==============================] - 2s 122ms/step - loss: 26858.3438 - mean_absolute_error: 67.5547 - val_loss: 12008.3330 - val_mean_absolute_error: 45.4693\n",
      "Epoch 8/20\n",
      "16/16 [==============================] - 2s 117ms/step - loss: 26755.3301 - mean_absolute_error: 67.6798 - val_loss: 12089.8428 - val_mean_absolute_error: 44.0001\n",
      "Epoch 9/20\n",
      "16/16 [==============================] - 2s 121ms/step - loss: 26650.0605 - mean_absolute_error: 67.6550 - val_loss: 11882.3086 - val_mean_absolute_error: 47.1973\n",
      "Epoch 10/20\n",
      "16/16 [==============================] - 2s 144ms/step - loss: 26542.6855 - mean_absolute_error: 68.1324 - val_loss: 11856.1924 - val_mean_absolute_error: 47.4055\n",
      "Epoch 11/20\n",
      "16/16 [==============================] - 2s 140ms/step - loss: 26443.7871 - mean_absolute_error: 68.4931 - val_loss: 11775.7979 - val_mean_absolute_error: 48.1736\n",
      "Epoch 12/20\n",
      "16/16 [==============================] - 2s 144ms/step - loss: 26341.3574 - mean_absolute_error: 68.4906 - val_loss: 11829.6807 - val_mean_absolute_error: 46.0816\n",
      "Epoch 13/20\n",
      "16/16 [==============================] - 2s 141ms/step - loss: 26249.1211 - mean_absolute_error: 68.6103 - val_loss: 11697.2188 - val_mean_absolute_error: 46.6289\n",
      "Epoch 14/20\n",
      "16/16 [==============================] - 2s 142ms/step - loss: 26144.4570 - mean_absolute_error: 68.7061 - val_loss: 11598.2969 - val_mean_absolute_error: 46.9119\n",
      "Epoch 15/20\n",
      "16/16 [==============================] - 2s 147ms/step - loss: 26040.5371 - mean_absolute_error: 68.5275 - val_loss: 11663.6631 - val_mean_absolute_error: 43.8003\n",
      "Epoch 16/20\n",
      "16/16 [==============================] - 2s 141ms/step - loss: 25956.6133 - mean_absolute_error: 68.8038 - val_loss: 11441.5947 - val_mean_absolute_error: 43.7287\n",
      "Epoch 17/20\n",
      "16/16 [==============================] - 2s 142ms/step - loss: 25851.6133 - mean_absolute_error: 68.8165 - val_loss: 11418.9453 - val_mean_absolute_error: 45.8937\n",
      "Epoch 18/20\n",
      "16/16 [==============================] - 2s 147ms/step - loss: 25766.6289 - mean_absolute_error: 69.2799 - val_loss: 11332.5498 - val_mean_absolute_error: 45.5843\n",
      "Epoch 19/20\n",
      "16/16 [==============================] - 2s 140ms/step - loss: 25660.6387 - mean_absolute_error: 69.0303 - val_loss: 11273.4541 - val_mean_absolute_error: 44.4872\n",
      "Epoch 20/20\n",
      "16/16 [==============================] - 2s 140ms/step - loss: 25578.5020 - mean_absolute_error: 69.7338 - val_loss: 11229.2812 - val_mean_absolute_error: 44.5625\n",
      "2/2 [==============================] - 0s 26ms/step - loss: 11229.2812 - mean_absolute_error: 44.5625\n",
      "measure c: [11229.28125, 44.56246566772461]\n"
     ]
    }
   ],
   "source": [
    "history_c = compile_and_fit(lstm_model_c,train_c_x, train_c_y, val_c_x, val_c_y)\n",
    "print(f'measure c: {lstm_model_c.evaluate(val_c_x, val_c_y)}')\n",
    "\n",
    "#[0.004318469204008579, 0.02518327347934246]\n",
    "#[0.004314047750085592, 0.025382312014698982]\n",
    "#[0.003403852926567197, 0.02470281533896923]"
   ]
  },
  {
   "cell_type": "code",
   "execution_count": 38,
   "metadata": {},
   "outputs": [],
   "source": [
    "#lstm_model_a.get_weight_paths()"
   ]
  },
  {
   "cell_type": "code",
   "execution_count": 39,
   "metadata": {},
   "outputs": [
    {
     "name": "stdout",
     "output_type": "stream",
     "text": [
      "1/1 [==============================] - 3s 3s/step\n",
      "1/1 [==============================] - 2s 2s/step\n",
      "1/1 [==============================] - 2s 2s/step\n",
      "3/3 [==============================] - 0s 33ms/step\n",
      "2/2 [==============================] - 0s 44ms/step\n",
      "2/2 [==============================] - 0s 49ms/step\n"
     ]
    }
   ],
   "source": [
    "pred_a = lstm_model_a.predict(test_a)\n",
    "pred_b = lstm_model_b.predict(test_b)\n",
    "pred_c = lstm_model_c.predict(test_c)\n",
    "\n",
    "pred_a_val = lstm_model_a.predict(val_a_x)\n",
    "pred_b_val = lstm_model_b.predict(val_b_x)\n",
    "pred_c_val = lstm_model_c.predict(val_c_x)"
   ]
  },
  {
   "cell_type": "code",
   "execution_count": 40,
   "metadata": {},
   "outputs": [],
   "source": [
    "pred_a = pred_a.flatten() #* a_max\n",
    "pred_b = pred_b.flatten() #* b_max\n",
    "pred_c = pred_c.flatten() #* c_max\n",
    "\n",
    "pred_a_val = pred_a_val.flatten() #* a_max\n",
    "pred_b_val = pred_b_val.flatten() #* b_max\n",
    "pred_c_val = pred_c_val.flatten() #* c_max"
   ]
  },
  {
   "cell_type": "code",
   "execution_count": null,
   "metadata": {},
   "outputs": [],
   "source": []
  },
  {
   "cell_type": "code",
   "execution_count": 41,
   "metadata": {},
   "outputs": [
    {
     "data": {
      "text/plain": [
       "[<matplotlib.lines.Line2D at 0x227aa5f93f0>]"
      ]
     },
     "execution_count": 41,
     "metadata": {},
     "output_type": "execute_result"
    },
    {
     "data": {
      "image/png": "[encoded data removed]",
      "text/plain": [
       "<Figure size 640x480 with 1 Axes>"
      ]
     },
     "metadata": {},
     "output_type": "display_data"
    }
   ],
   "source": [
    "plt.plot(pred_a[0:24*7], color=\"blue\")\n",
    "plt.plot(pred_b[0:24*7], color=\"red\")\n",
    "plt.plot(pred_c[0:24*7], color=\"green\")"
   ]
  },
  {
   "cell_type": "code",
   "execution_count": null,
   "metadata": {},
   "outputs": [],
   "source": []
  },
  {
   "cell_type": "code",
   "execution_count": 42,
   "metadata": {},
   "outputs": [
    {
     "data": {
      "text/plain": [
       "[<matplotlib.lines.Line2D at 0x227adee3220>]"
      ]
     },
     "execution_count": 42,
     "metadata": {},
     "output_type": "execute_result"
    },
    {
     "data": {
      "image/png": "[encoded data removed]",
      "text/plain": [
       "<Figure size 640x480 with 1 Axes>"
      ]
     },
     "metadata": {},
     "output_type": "display_data"
    }
   ],
   "source": [
    "\n",
    "plt.plot(val_a_y.flatten()[:1000], color=\"blue\")\n",
    "plt.plot(pred_a_val[:1000], color=\"orange\")\n"
   ]
  },
  {
   "cell_type": "code",
   "execution_count": 243,
   "metadata": {},
   "outputs": [
    {
     "data": {
      "text/html": [
       "<div>\n",
       "<style scoped>\n",
       "    .dataframe tbody tr th:only-of-type {\n",
       "        vertical-align: middle;\n",
       "    }\n",
       "\n",
       "    .dataframe tbody tr th {\n",
       "        vertical-align: top;\n",
       "    }\n",
       "\n",
       "    .dataframe thead th {\n",
       "        text-align: right;\n",
       "    }\n",
       "</style>\n",
       "<table border=\"1\" class=\"dataframe\">\n",
       "  <thead>\n",
       "    <tr style=\"text-align: right;\">\n",
       "      <th></th>\n",
       "      <th>id</th>\n",
       "      <th>time</th>\n",
       "      <th>prediction</th>\n",
       "      <th>location</th>\n",
       "    </tr>\n",
       "  </thead>\n",
       "  <tbody>\n",
       "    <tr>\n",
       "      <th>0</th>\n",
       "      <td>0</td>\n",
       "      <td>2023-05-01 00:00:00</td>\n",
       "      <td>0</td>\n",
       "      <td>A</td>\n",
       "    </tr>\n",
       "    <tr>\n",
       "      <th>1</th>\n",
       "      <td>1</td>\n",
       "      <td>2023-05-01 01:00:00</td>\n",
       "      <td>0</td>\n",
       "      <td>A</td>\n",
       "    </tr>\n",
       "    <tr>\n",
       "      <th>2</th>\n",
       "      <td>2</td>\n",
       "      <td>2023-05-01 02:00:00</td>\n",
       "      <td>0</td>\n",
       "      <td>A</td>\n",
       "    </tr>\n",
       "    <tr>\n",
       "      <th>3</th>\n",
       "      <td>3</td>\n",
       "      <td>2023-05-01 03:00:00</td>\n",
       "      <td>0</td>\n",
       "      <td>A</td>\n",
       "    </tr>\n",
       "    <tr>\n",
       "      <th>4</th>\n",
       "      <td>4</td>\n",
       "      <td>2023-05-01 04:00:00</td>\n",
       "      <td>0</td>\n",
       "      <td>A</td>\n",
       "    </tr>\n",
       "    <tr>\n",
       "      <th>...</th>\n",
       "      <td>...</td>\n",
       "      <td>...</td>\n",
       "      <td>...</td>\n",
       "      <td>...</td>\n",
       "    </tr>\n",
       "    <tr>\n",
       "      <th>2155</th>\n",
       "      <td>2155</td>\n",
       "      <td>2023-07-03 19:00:00</td>\n",
       "      <td>0</td>\n",
       "      <td>C</td>\n",
       "    </tr>\n",
       "    <tr>\n",
       "      <th>2156</th>\n",
       "      <td>2156</td>\n",
       "      <td>2023-07-03 20:00:00</td>\n",
       "      <td>0</td>\n",
       "      <td>C</td>\n",
       "    </tr>\n",
       "    <tr>\n",
       "      <th>2157</th>\n",
       "      <td>2157</td>\n",
       "      <td>2023-07-03 21:00:00</td>\n",
       "      <td>0</td>\n",
       "      <td>C</td>\n",
       "    </tr>\n",
       "    <tr>\n",
       "      <th>2158</th>\n",
       "      <td>2158</td>\n",
       "      <td>2023-07-03 22:00:00</td>\n",
       "      <td>0</td>\n",
       "      <td>C</td>\n",
       "    </tr>\n",
       "    <tr>\n",
       "      <th>2159</th>\n",
       "      <td>2159</td>\n",
       "      <td>2023-07-03 23:00:00</td>\n",
       "      <td>0</td>\n",
       "      <td>C</td>\n",
       "    </tr>\n",
       "  </tbody>\n",
       "</table>\n",
       "<p>2160 rows × 4 columns</p>\n",
       "</div>"
      ],
      "text/plain": [
       "        id                 time  prediction location\n",
       "0        0  2023-05-01 00:00:00           0        A\n",
       "1        1  2023-05-01 01:00:00           0        A\n",
       "2        2  2023-05-01 02:00:00           0        A\n",
       "3        3  2023-05-01 03:00:00           0        A\n",
       "4        4  2023-05-01 04:00:00           0        A\n",
       "...    ...                  ...         ...      ...\n",
       "2155  2155  2023-07-03 19:00:00           0        C\n",
       "2156  2156  2023-07-03 20:00:00           0        C\n",
       "2157  2157  2023-07-03 21:00:00           0        C\n",
       "2158  2158  2023-07-03 22:00:00           0        C\n",
       "2159  2159  2023-07-03 23:00:00           0        C\n",
       "\n",
       "[2160 rows x 4 columns]"
      ]
     },
     "execution_count": 243,
     "metadata": {},
     "output_type": "execute_result"
    }
   ],
   "source": [
    "test = pd.read_csv('test.csv')\n",
    "\n",
    "test"
   ]
  },
  {
   "cell_type": "code",
   "execution_count": 244,
   "metadata": {},
   "outputs": [
    {
     "data": {
      "text/html": [
       "<div>\n",
       "<style scoped>\n",
       "    .dataframe tbody tr th:only-of-type {\n",
       "        vertical-align: middle;\n",
       "    }\n",
       "\n",
       "    .dataframe tbody tr th {\n",
       "        vertical-align: top;\n",
       "    }\n",
       "\n",
       "    .dataframe thead th {\n",
       "        text-align: right;\n",
       "    }\n",
       "</style>\n",
       "<table border=\"1\" class=\"dataframe\">\n",
       "  <thead>\n",
       "    <tr style=\"text-align: right;\">\n",
       "      <th></th>\n",
       "      <th>id</th>\n",
       "      <th>prediction</th>\n",
       "    </tr>\n",
       "  </thead>\n",
       "  <tbody>\n",
       "    <tr>\n",
       "      <th>0</th>\n",
       "      <td>0</td>\n",
       "      <td>0</td>\n",
       "    </tr>\n",
       "    <tr>\n",
       "      <th>1</th>\n",
       "      <td>1</td>\n",
       "      <td>0</td>\n",
       "    </tr>\n",
       "    <tr>\n",
       "      <th>2</th>\n",
       "      <td>2</td>\n",
       "      <td>0</td>\n",
       "    </tr>\n",
       "    <tr>\n",
       "      <th>3</th>\n",
       "      <td>3</td>\n",
       "      <td>0</td>\n",
       "    </tr>\n",
       "    <tr>\n",
       "      <th>4</th>\n",
       "      <td>4</td>\n",
       "      <td>0</td>\n",
       "    </tr>\n",
       "    <tr>\n",
       "      <th>...</th>\n",
       "      <td>...</td>\n",
       "      <td>...</td>\n",
       "    </tr>\n",
       "    <tr>\n",
       "      <th>2155</th>\n",
       "      <td>2155</td>\n",
       "      <td>0</td>\n",
       "    </tr>\n",
       "    <tr>\n",
       "      <th>2156</th>\n",
       "      <td>2156</td>\n",
       "      <td>0</td>\n",
       "    </tr>\n",
       "    <tr>\n",
       "      <th>2157</th>\n",
       "      <td>2157</td>\n",
       "      <td>0</td>\n",
       "    </tr>\n",
       "    <tr>\n",
       "      <th>2158</th>\n",
       "      <td>2158</td>\n",
       "      <td>0</td>\n",
       "    </tr>\n",
       "    <tr>\n",
       "      <th>2159</th>\n",
       "      <td>2159</td>\n",
       "      <td>0</td>\n",
       "    </tr>\n",
       "  </tbody>\n",
       "</table>\n",
       "<p>2160 rows × 2 columns</p>\n",
       "</div>"
      ],
      "text/plain": [
       "        id  prediction\n",
       "0        0           0\n",
       "1        1           0\n",
       "2        2           0\n",
       "3        3           0\n",
       "4        4           0\n",
       "...    ...         ...\n",
       "2155  2155           0\n",
       "2156  2156           0\n",
       "2157  2157           0\n",
       "2158  2158           0\n",
       "2159  2159           0\n",
       "\n",
       "[2160 rows x 2 columns]"
      ]
     },
     "execution_count": 244,
     "metadata": {},
     "output_type": "execute_result"
    }
   ],
   "source": [
    "sample_submission = pd.read_csv('sample_submission.csv')\n",
    "sample_submission"
   ]
  },
  {
   "cell_type": "code",
   "execution_count": 245,
   "metadata": {},
   "outputs": [],
   "source": [
    "submit = np.concatenate((np.concatenate((pred_a, pred_b)),pred_c))"
   ]
  },
  {
   "cell_type": "code",
   "execution_count": 246,
   "metadata": {},
   "outputs": [],
   "source": [
    "from datetime import datetime\n",
    "\n",
    "now = datetime.now() # current date and time\n",
    "\n",
    "# Example, let the predictions be random values\n",
    "test['prediction'] = submit\n",
    "sample_submission = sample_submission[['id']].merge(test[['id', 'prediction']], on='id', how='left')\n",
    "sample_submission.to_csv(\"bi_vol2.csv\", index=False)"
   ]
  },
  {
   "cell_type": "code",
   "execution_count": null,
   "metadata": {},
   "outputs": [],
   "source": []
  }
 ],
 "metadata": {
  "kernelspec": {
   "display_name": "Python [conda env:tf]",
   "language": "python",
   "name": "conda-env-tf-py"
  },
  "language_info": {
   "codemirror_mode": {
    "name": "ipython",
    "version": 3
   },
   "file_extension": ".py",
   "mimetype": "text/x-python",
   "name": "python",
   "nbconvert_exporter": "python",
   "pygments_lexer": "ipython3",
   "version": "3.10.13"
  }
 },
 "nbformat": 4,
 "nbformat_minor": 2
}
