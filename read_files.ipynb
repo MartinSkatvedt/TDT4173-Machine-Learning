{
 "cells": [
  {
   "cell_type": "code",
   "execution_count": 287,
   "metadata": {
    "scrolled": false
   },
   "outputs": [],
   "source": [
    "import os\n",
    "import pandas as pd\n",
    "import numpy as np\n",
    "import matplotlib.pylab as plt\n",
    "%matplotlib inline\n",
    "import seaborn as sns\n",
    "import tensorflow as tf\n",
    "import math\n",
    "\n",
    "from keras.models import Sequential\n",
    "from keras.layers import LSTM, Dense\n",
    "\n",
    "pd.set_option('display.max_rows', 200)\n",
    "pd.set_option('display.max_columns', 200)\n",
    "\n",
    "os.environ['KMP_DUPLICATE_LIB_OK'] = 'True'"
   ]
  },
  {
   "cell_type": "code",
   "execution_count": 288,
   "metadata": {},
   "outputs": [],
   "source": [
    "def quartersToHours(data):\n",
    "    data['date_forecast'] = pd.to_datetime(data['date_forecast'], format='%Y-%m.%d %H:%M:%S')\n",
    "    data[\"year\"] = data['date_forecast'].dt.year\n",
    "    data[\"month\"] = data['date_forecast'].dt.month\n",
    "    data[\"day\"] = data['date_forecast'].dt.day\n",
    "    data[\"hour\"] = data['date_forecast'].dt.hour\n",
    "\n",
    "\n",
    "    group = data.groupby([data[\"year\"], data[\"month\"], data[\"day\"], data[\"hour\"]])  \n",
    "    result = group.mean()\n",
    "    result = result.reset_index()\n",
    "    \n",
    "    return_df = result.drop(['year','month', 'day', 'hour'], axis=1)\n",
    "    \n",
    "    return return_df"
   ]
  },
  {
   "cell_type": "code",
   "execution_count": 289,
   "metadata": {},
   "outputs": [],
   "source": [
    "def join_data_and_labels(train, val, labels):\n",
    "    \n",
    "    #Remove hour and minute values\n",
    "    val = val.assign(date_forecast=val.date_forecast.dt.round('H'))\n",
    "    train = train.assign(date_forecast=train.date_forecast.dt.round('H'))\n",
    "    \n",
    "    #rename columns names to match\n",
    "    \n",
    "    train = train.rename(columns={'date_forecast': 'date'})\n",
    "    val = val.rename(columns={'date_forecast': 'date'})\n",
    "    labels = labels.rename(columns={'time': 'date'})\n",
    "    \n",
    "    joined_train = pd.merge(train, labels, how=\"inner\", on=\"date\")\n",
    "    joined_val = pd.merge(val, labels, how=\"inner\", on=\"date\")\n",
    "\n",
    "    \n",
    "    return joined_train, joined_val"
   ]
  },
  {
   "cell_type": "code",
   "execution_count": 290,
   "metadata": {},
   "outputs": [],
   "source": [
    "def remove_unused_columns(df):\n",
    "    df = df.drop(['wind_speed_10m:ms', 'elevation:m', 'wind_speed_u_10m:ms', 'wind_speed_v_10m:ms',\n",
    "                 'wind_speed_w_1000hPa:ms'], axis=1)\n",
    "    return df"
   ]
  },
  {
   "cell_type": "code",
   "execution_count": 291,
   "metadata": {},
   "outputs": [],
   "source": [
    "def drop_constanst_columns(train, val, test):\n",
    "    constanst_columns = []\n",
    "    # Remove constants\n",
    "    for key, value in train.std().items():\n",
    "        if value == 0.0:\n",
    "            constanst_columns.append(key)\n",
    "\n",
    "    for key in constanst_columns:\n",
    "        if val.std()[key] != 0.0 or test.std()[key] != 0.0:\n",
    "            constanst_columns.remove(key)\n",
    "\n",
    "    for key in constanst_columns:\n",
    "        train = train.drop([key], axis=1)\n",
    "        val = val.drop([key], axis=1)\n",
    "        test = test.drop([key], axis=1)"
   ]
  },
  {
   "cell_type": "code",
   "execution_count": 292,
   "metadata": {},
   "outputs": [],
   "source": [
    "def convert_date_to_sin_and_cos(df):\n",
    "    day = 24*60*60 #seconds in a day\n",
    "    year = (365.2425)*day #seconds in a year\n",
    "    month = year / 12.0\n",
    "\n",
    "    date_time = pd.to_datetime(df.pop('date'), format='%Y-%m.%d %H:%M:%S')\n",
    "    timestamp_s = date_time.map(pd.Timestamp.timestamp)\n",
    "    print(timestamp_s)\n",
    "\n",
    "    #df['Month sin'] = np.sin(timestamp_s * (2 * np.pi / month))\n",
    "    #df['Month cos'] = np.cos(timestamp_s * (2 * np.pi / month))\n",
    "    \n",
    "    df['Year sin'] = np.sin(timestamp_s * (2 * np.pi / year))\n",
    "    df['Year cos'] = np.cos(timestamp_s * (2 * np.pi / year))\n",
    "    \n",
    "    df['Hour sin'] = np.sin(timestamp_s * (2 * np.pi / day))\n",
    "    df['Hour cos'] = np.cos(timestamp_s * (2 * np.pi / day))"
   ]
  },
  {
   "cell_type": "code",
   "execution_count": 293,
   "metadata": {},
   "outputs": [],
   "source": [
    "def round_is_day(df):\n",
    "    df[\"is_day:idx\"] = [round(df[\"is_day:idx\"][i]) for i in range(len(df))]\n",
    "    df[\"is_in_shadow:idx\"] = [round(df[\"is_in_shadow:idx\"][i]) for i in range(len(df))]\n",
    "    "
   ]
  },
  {
   "cell_type": "code",
   "execution_count": 294,
   "metadata": {},
   "outputs": [],
   "source": [
    "def normalize_except_columns(df):\n",
    "    not_to_be_norm = [\"is_day:idx\", \"Year sin\", \"Year cos\", 'is_in_shadow:idx', 'Hour sin', 'Hour cos']\n",
    "    cols = df.columns.tolist()\n",
    "    cols_to_norm = [i for i in cols if i not in not_to_be_norm]\n",
    "    \n",
    "    df[cols_to_norm] = df[cols_to_norm].apply(lambda x: (x - x.min()) / (x.max() - x.min()))\n"
   ]
  },
  {
   "cell_type": "code",
   "execution_count": 295,
   "metadata": {},
   "outputs": [
    {
     "data": {
      "text/plain": [
       "[<matplotlib.lines.Line2D at 0x26088f34e50>]"
      ]
     },
     "execution_count": 295,
     "metadata": {},
     "output_type": "execute_result"
    },
    {
     "data": {
      "image/png": "[encoded data removed]",
      "text/plain": [
       "<Figure size 640x480 with 1 Axes>"
      ]
     },
     "metadata": {},
     "output_type": "display_data"
    }
   ],
   "source": [
    "train_a = pd.read_parquet('dataset/A/train_targets.parquet')\n",
    "train_b = pd.read_parquet('dataset/B/train_targets.parquet')\n",
    "train_c = pd.read_parquet('dataset/C/train_targets.parquet')\n",
    "\n",
    "plt.plot(train_a[\"pv_measurement\"][0:24 * 2])\n",
    "plt.plot(train_b[\"pv_measurement\"][0:24 * 2])\n",
    "plt.plot(train_c[\"pv_measurement\"][0:24 * 2])"
   ]
  },
  {
   "cell_type": "code",
   "execution_count": 296,
   "metadata": {},
   "outputs": [],
   "source": [
    "a_max = train_a[\"pv_measurement\"].max()\n",
    "b_max = train_b[\"pv_measurement\"].max()\n",
    "c_max = train_c[\"pv_measurement\"].max()"
   ]
  },
  {
   "cell_type": "code",
   "execution_count": 297,
   "metadata": {},
   "outputs": [],
   "source": [
    "#Load data, sample to hours and drop columns which are not needed\n",
    "X_train_observed_a = quartersToHours(pd.read_parquet('dataset/A/X_train_observed.parquet')) #Train_x\n",
    "X_train_observed_b = quartersToHours(pd.read_parquet('dataset/B/X_train_observed.parquet'))\n",
    "X_train_observed_c = quartersToHours(pd.read_parquet('dataset/C/X_train_observed.parquet'))\n",
    "\n",
    "X_train_estimated_a = quartersToHours(pd.read_parquet('dataset/A/X_train_estimated.parquet')) # Val_x\n",
    "X_train_estimated_a = X_train_estimated_a.drop([\"date_calc\"], axis=1)\n",
    "\n",
    "X_train_estimated_b = quartersToHours(pd.read_parquet('dataset/B/X_train_estimated.parquet'))\n",
    "X_train_estimated_b = X_train_estimated_b.drop([\"date_calc\"], axis=1)\n",
    "\n",
    "X_train_estimated_c = quartersToHours(pd.read_parquet('dataset/C/X_train_estimated.parquet'))\n",
    "X_train_estimated_c = X_train_estimated_c.drop([\"date_calc\"], axis=1)\n",
    "\n",
    "X_test_estimated_a = quartersToHours(pd.read_parquet('dataset/A/X_test_estimated.parquet'))\n",
    "X_test_estimated_a = X_test_estimated_a.drop([\"date_calc\"], axis=1)\n",
    "test_a = X_test_estimated_a.rename(columns={'date_forecast': 'date'})\n",
    "\n",
    "X_test_estimated_b = quartersToHours(pd.read_parquet('dataset/B/X_test_estimated.parquet'))\n",
    "X_test_estimated_b = X_test_estimated_b.drop([\"date_calc\"], axis=1)\n",
    "test_b = X_test_estimated_b.rename(columns={'date_forecast': 'date'})\n",
    "\n",
    "X_test_estimated_c = quartersToHours(pd.read_parquet('dataset/C/X_test_estimated.parquet'))\n",
    "X_test_estimated_c = X_test_estimated_c.drop([\"date_calc\"], axis=1)\n",
    "test_c = X_test_estimated_c.rename(columns={'date_forecast': 'date'})"
   ]
  },
  {
   "cell_type": "code",
   "execution_count": 298,
   "metadata": {},
   "outputs": [],
   "source": [
    "# Join data and labels into one df\n",
    "train_data_a, val_data_a = join_data_and_labels(X_train_observed_a, X_train_estimated_a, train_a)\n",
    "train_data_b, val_data_b = join_data_and_labels(X_train_observed_b, X_train_estimated_b, train_b)\n",
    "train_data_c, val_data_c = join_data_and_labels(X_train_observed_c, X_train_estimated_c, train_c)"
   ]
  },
  {
   "cell_type": "code",
   "execution_count": 299,
   "metadata": {},
   "outputs": [],
   "source": [
    "# Remove columns which are not needed\n",
    "train_data_a = remove_unused_columns(train_data_a)\n",
    "val_data_a = remove_unused_columns(val_data_a)\n",
    "test_a = remove_unused_columns(test_a)\n",
    "\n",
    "train_data_b = remove_unused_columns(train_data_b)\n",
    "val_data_b = remove_unused_columns(val_data_b)\n",
    "test_b = remove_unused_columns(test_b)\n",
    "\n",
    "train_data_c = remove_unused_columns(train_data_c)\n",
    "val_data_c = remove_unused_columns(val_data_c)\n",
    "test_c = remove_unused_columns(test_c)"
   ]
  },
  {
   "cell_type": "code",
   "execution_count": 300,
   "metadata": {},
   "outputs": [],
   "source": [
    "# Drop columns which are constant\n",
    "drop_constanst_columns(train_data_a, val_data_a, test_a)\n",
    "drop_constanst_columns(train_data_b, val_data_b, test_b)\n",
    "drop_constanst_columns(train_data_c, val_data_c, test_c)"
   ]
  },
  {
   "cell_type": "code",
   "execution_count": 301,
   "metadata": {},
   "outputs": [
    {
     "data": {
      "image/png": "[encoded data removed]",
      "text/plain": [
       "<Figure size 640x480 with 1 Axes>"
      ]
     },
     "metadata": {},
     "output_type": "display_data"
    }
   ],
   "source": [
    "fft = tf.signal.rfft(train_data_b['pv_measurement'])\n",
    "f_per_dataset = np.arange(0, len(fft))\n",
    "\n",
    "n_samples_h = len(train_data_b['pv_measurement'])\n",
    "hours_per_year = 24*365.2524\n",
    "years_per_dataset = n_samples_h/(hours_per_year)\n",
    "\n",
    "f_per_year = f_per_dataset/years_per_dataset\n",
    "plt.step(f_per_year, np.abs(fft))\n",
    "plt.xscale('log')\n",
    "plt.ylim(0, 10000)\n",
    "plt.xlim([0.1, max(plt.xlim())])\n",
    "plt.xticks([1, 365.2524, 12, 365.2524 * 2.5,], labels=['1/Year', '1/day', '1/month', '1/hour'])\n",
    "_ = plt.xlabel('Frequency (log scale)')"
   ]
  },
  {
   "cell_type": "code",
   "execution_count": 302,
   "metadata": {},
   "outputs": [
    {
     "name": "stdout",
     "output_type": "stream",
     "text": [
      "0        1.559513e+09\n",
      "1        1.559516e+09\n",
      "2        1.559520e+09\n",
      "3        1.559524e+09\n",
      "4        1.559527e+09\n",
      "             ...     \n",
      "29662    1.666296e+09\n",
      "29663    1.666300e+09\n",
      "29664    1.666303e+09\n",
      "29665    1.666307e+09\n",
      "29666    1.666310e+09\n",
      "Name: date, Length: 29667, dtype: float64\n",
      "0       1.666994e+09\n",
      "1       1.666998e+09\n",
      "2       1.667002e+09\n",
      "3       1.667005e+09\n",
      "4       1.667009e+09\n",
      "            ...     \n",
      "4389    1.682881e+09\n",
      "4390    1.682885e+09\n",
      "4391    1.682888e+09\n",
      "4392    1.682892e+09\n",
      "4393    1.682896e+09\n",
      "Name: date, Length: 4394, dtype: float64\n",
      "0      1.682901e+09\n",
      "1      1.682904e+09\n",
      "2      1.682908e+09\n",
      "3      1.682911e+09\n",
      "4      1.682915e+09\n",
      "           ...     \n",
      "715    1.688412e+09\n",
      "716    1.688416e+09\n",
      "717    1.688419e+09\n",
      "718    1.688423e+09\n",
      "719    1.688427e+09\n",
      "Name: date, Length: 720, dtype: float64\n",
      "0        1.546301e+09\n",
      "1        1.546304e+09\n",
      "2        1.546308e+09\n",
      "3        1.546312e+09\n",
      "4        1.546315e+09\n",
      "             ...     \n",
      "29217    1.651518e+09\n",
      "29218    1.651522e+09\n",
      "29219    1.651525e+09\n",
      "29220    1.651529e+09\n",
      "29221    1.651532e+09\n",
      "Name: date, Length: 29222, dtype: float64\n",
      "0       1.666994e+09\n",
      "1       1.666998e+09\n",
      "2       1.667002e+09\n",
      "3       1.667005e+09\n",
      "4       1.667009e+09\n",
      "            ...     \n",
      "3596    1.682881e+09\n",
      "3597    1.682885e+09\n",
      "3598    1.682888e+09\n",
      "3599    1.682892e+09\n",
      "3600    1.682896e+09\n",
      "Name: date, Length: 3601, dtype: float64\n",
      "0      1.682901e+09\n",
      "1      1.682904e+09\n",
      "2      1.682908e+09\n",
      "3      1.682911e+09\n",
      "4      1.682915e+09\n",
      "           ...     \n",
      "715    1.688412e+09\n",
      "716    1.688416e+09\n",
      "717    1.688419e+09\n",
      "718    1.688423e+09\n",
      "719    1.688427e+09\n",
      "Name: date, Length: 720, dtype: float64\n",
      "0        1.546301e+09\n",
      "1        1.546304e+09\n",
      "2        1.546308e+09\n",
      "3        1.546312e+09\n",
      "4        1.546315e+09\n",
      "             ...     \n",
      "29195    1.651424e+09\n",
      "29196    1.651428e+09\n",
      "29197    1.651432e+09\n",
      "29198    1.651435e+09\n",
      "29199    1.651439e+09\n",
      "Name: date, Length: 29200, dtype: float64\n",
      "0       1.666994e+09\n",
      "1       1.666998e+09\n",
      "2       1.667002e+09\n",
      "3       1.667005e+09\n",
      "4       1.667009e+09\n",
      "            ...     \n",
      "2925    1.682881e+09\n",
      "2926    1.682885e+09\n",
      "2927    1.682888e+09\n",
      "2928    1.682892e+09\n",
      "2929    1.682896e+09\n",
      "Name: date, Length: 2930, dtype: float64\n",
      "0      1.682901e+09\n",
      "1      1.682904e+09\n",
      "2      1.682908e+09\n",
      "3      1.682911e+09\n",
      "4      1.682915e+09\n",
      "           ...     \n",
      "715    1.688412e+09\n",
      "716    1.688416e+09\n",
      "717    1.688419e+09\n",
      "718    1.688423e+09\n",
      "719    1.688427e+09\n",
      "Name: date, Length: 720, dtype: float64\n"
     ]
    }
   ],
   "source": [
    "# Convert date into sin and cos components\n",
    "convert_date_to_sin_and_cos(train_data_a)\n",
    "convert_date_to_sin_and_cos(val_data_a)\n",
    "convert_date_to_sin_and_cos(test_a)\n",
    "\n",
    "convert_date_to_sin_and_cos(train_data_b)\n",
    "convert_date_to_sin_and_cos(val_data_b)\n",
    "convert_date_to_sin_and_cos(test_b)\n",
    "\n",
    "convert_date_to_sin_and_cos(train_data_c)\n",
    "convert_date_to_sin_and_cos(val_data_c)\n",
    "convert_date_to_sin_and_cos(test_c)"
   ]
  },
  {
   "cell_type": "code",
   "execution_count": 303,
   "metadata": {},
   "outputs": [],
   "source": [
    "# Isday should be a binary value\n",
    "round_is_day(train_data_a)\n",
    "round_is_day(val_data_a)\n",
    "round_is_day(test_a)\n",
    "\n",
    "round_is_day(train_data_b)\n",
    "round_is_day(val_data_b)\n",
    "round_is_day(test_b)\n",
    "\n",
    "round_is_day(train_data_c)\n",
    "round_is_day(val_data_c)\n",
    "round_is_day(test_c)"
   ]
  },
  {
   "cell_type": "code",
   "execution_count": 304,
   "metadata": {},
   "outputs": [],
   "source": [
    "normalize_except_columns(train_data_a)\n",
    "normalize_except_columns(val_data_a)\n",
    "normalize_except_columns(test_a)\n",
    "\n",
    "normalize_except_columns(train_data_b)\n",
    "normalize_except_columns(val_data_b)\n",
    "normalize_except_columns(test_b)\n",
    "\n",
    "normalize_except_columns(train_data_c)\n",
    "normalize_except_columns(val_data_c)\n",
    "normalize_except_columns(test_c)"
   ]
  },
  {
   "cell_type": "code",
   "execution_count": 305,
   "metadata": {},
   "outputs": [],
   "source": [
    "# Fill 0 for NaNs\n",
    "train_data_a = train_data_a.fillna(0)\n",
    "val_data_a = val_data_a.fillna(0)\n",
    "test_a = test_a.fillna(0)\n",
    "\n",
    "train_data_b = train_data_b.fillna(0)\n",
    "val_data_b = val_data_b.fillna(0)\n",
    "test_b = test_b.fillna(0)\n",
    "\n",
    "train_data_c = train_data_c.fillna(0)\n",
    "val_data_c = val_data_c.fillna(0)\n",
    "test_c = test_c.fillna(0)"
   ]
  },
  {
   "cell_type": "code",
   "execution_count": 306,
   "metadata": {},
   "outputs": [
    {
     "name": "stdout",
     "output_type": "stream",
     "text": [
      "494.45\n",
      "73.23333333333333\n",
      "12.0\n"
     ]
    }
   ],
   "source": [
    "b = 60\n",
    "print(len(train_data_a) / b)\n",
    "print(len(val_data_a) / b)\n",
    "print(len(test_a) / b)"
   ]
  },
  {
   "cell_type": "code",
   "execution_count": 332,
   "metadata": {},
   "outputs": [],
   "source": [
    "MAX_EPOCHS = 20\n",
    "\n",
    "def compile_and_fit(model, train_x, train_y, val_x, val_y, patience=3):\n",
    "    early_stopping = tf.keras.callbacks.EarlyStopping(monitor='val_loss',\n",
    "                                                    patience=4,\n",
    "                                                    mode='min',\n",
    "                                                    restore_best_weights=True)\n",
    "\n",
    "    model.compile(loss=tf.keras.losses.MeanSquaredError(),\n",
    "                optimizer=tf.keras.optimizers.RMSprop(),\n",
    "                metrics=[tf.keras.metrics.MeanAbsoluteError()])\n",
    "\n",
    "    history = model.fit(x= train_x, y=train_y, epochs=MAX_EPOCHS,\n",
    "                      validation_data=(val_x, val_y),\n",
    "                       callbacks=[early_stopping])\n",
    "    return history"
   ]
  },
  {
   "cell_type": "code",
   "execution_count": 308,
   "metadata": {},
   "outputs": [],
   "source": [
    "def split_and_batch(df):\n",
    "    df_labels = df.pop(\"pv_measurement\")\n",
    "    \n",
    "    BATCH_SIZE=60\n",
    "\n",
    "    df_arr = np.array(df, dtype=np.float32)\n",
    "    df_label_arr = np.array(df_labels, dtype=np.float32)\n",
    "\n",
    "    # Calculate the number of batches needed\n",
    "    num_batches = df_arr.shape[0] // BATCH_SIZE\n",
    "\n",
    "    # Reshape the 2D array into a 3D array with shape (num_batches, BATCH_SIZE, 48)\n",
    "    if df_arr.shape[0] % BATCH_SIZE == 0:\n",
    "        # If the data size is a multiple of BATCH_SIZE\n",
    "        data_3d = df_arr.reshape(num_batches, BATCH_SIZE, -1)\n",
    "        label_3d = df_label_arr.reshape(num_batches, BATCH_SIZE, -1)\n",
    "\n",
    "    else:\n",
    "        # If there's some remaining data that doesn't fit perfectly into batches\n",
    "        remaining_rows = df_arr.shape[0] % BATCH_SIZE\n",
    "        data_3d = df_arr[:-remaining_rows].reshape(num_batches, BATCH_SIZE, -1)\n",
    "        label_3d = df_label_arr[:-remaining_rows].reshape(num_batches, BATCH_SIZE, -1)\n",
    "\n",
    "    return data_3d, label_3d"
   ]
  },
  {
   "cell_type": "code",
   "execution_count": 309,
   "metadata": {},
   "outputs": [],
   "source": [
    "def batch(df):\n",
    "    BATCH_SIZE=60\n",
    "\n",
    "    df_arr = np.array(df, dtype=np.float32)\n",
    "\n",
    "    # Calculate the number of batches needed\n",
    "    num_batches = df_arr.shape[0] // BATCH_SIZE\n",
    "\n",
    "    # Reshape the 2D array into a 3D array with shape (num_batches, BATCH_SIZE, 48)\n",
    "    if df_arr.shape[0] % BATCH_SIZE == 0:\n",
    "        # If the data size is a multiple of BATCH_SIZE\n",
    "        data_3d = df_arr.reshape(num_batches, BATCH_SIZE, -1)\n",
    "\n",
    "    else:\n",
    "        # If there's some remaining data that doesn't fit perfectly into batches\n",
    "        remaining_rows = df_arr.shape[0] % BATCH_SIZE\n",
    "        data_3d = df_arr[:-remaining_rows].reshape(num_batches, BATCH_SIZE, -1)\n",
    "\n",
    "    return data_3d\n",
    "    "
   ]
  },
  {
   "cell_type": "code",
   "execution_count": 310,
   "metadata": {},
   "outputs": [],
   "source": [
    "train_a_x, train_a_y = split_and_batch(train_data_a)\n",
    "val_a_x, val_a_y = split_and_batch(val_data_a)\n",
    "\n",
    "train_b_x, train_b_y = split_and_batch(train_data_b)\n",
    "val_b_x, val_b_y = split_and_batch(val_data_b)\n",
    "\n",
    "train_c_x, train_c_y = split_and_batch(train_data_c)\n",
    "val_c_x, val_c_y = split_and_batch(val_data_c)\n",
    "\n",
    "test_a = batch(test_a)\n",
    "test_b = batch(test_b)\n",
    "test_c = batch(test_c)"
   ]
  },
  {
   "cell_type": "code",
   "execution_count": null,
   "metadata": {},
   "outputs": [],
   "source": []
  },
  {
   "cell_type": "code",
   "execution_count": 333,
   "metadata": {},
   "outputs": [],
   "source": [
    "lstm_model_a = tf.keras.models.Sequential([   \n",
    "    tf.keras.layers.Bidirectional(\n",
    "        tf.keras.layers.LSTM(60, return_sequences=True, kernel_initializer='random_uniform',\n",
    "                    bias_initializer='zeros')\n",
    "    ),\n",
    "    tf.keras.layers.Bidirectional(tf.keras.layers.LSTM(32, return_sequences=True, dropout=0.5)\n",
    "    ),\n",
    "    #tf.keras.layers.LSTM(64, return_sequences=True),\n",
    "    #tf.keras.layers.Dense(units=48),\n",
    "    #tf.keras.layers.Dense(units=32),\n",
    "\n",
    "    tf.keras.layers.Dense(units=1, activation=\"relu\")\n",
    "])\n",
    "\n",
    "lstm_model_b = tf.keras.models.clone_model(lstm_model_a)\n",
    "lstm_model_c = tf.keras.models.clone_model(lstm_model_b)"
   ]
  },
  {
   "cell_type": "code",
   "execution_count": 334,
   "metadata": {},
   "outputs": [
    {
     "name": "stdout",
     "output_type": "stream",
     "text": [
      "Epoch 1/20\n",
      "16/16 [==============================] - 15s 259ms/step - loss: 0.0553 - mean_absolute_error: 0.1124 - val_loss: 0.0078 - val_mean_absolute_error: 0.0335\n",
      "Epoch 2/20\n",
      "16/16 [==============================] - 2s 110ms/step - loss: 0.0123 - mean_absolute_error: 0.0557 - val_loss: 0.0107 - val_mean_absolute_error: 0.0394\n",
      "Epoch 3/20\n",
      "16/16 [==============================] - 2s 111ms/step - loss: 0.0113 - mean_absolute_error: 0.0529 - val_loss: 0.0058 - val_mean_absolute_error: 0.0321\n",
      "Epoch 4/20\n",
      "16/16 [==============================] - 2s 111ms/step - loss: 0.0127 - mean_absolute_error: 0.0566 - val_loss: 0.0055 - val_mean_absolute_error: 0.0309\n",
      "Epoch 5/20\n",
      "16/16 [==============================] - 2s 111ms/step - loss: 0.0096 - mean_absolute_error: 0.0482 - val_loss: 0.0050 - val_mean_absolute_error: 0.0288\n",
      "Epoch 6/20\n",
      "16/16 [==============================] - 2s 111ms/step - loss: 0.0099 - mean_absolute_error: 0.0485 - val_loss: 0.0054 - val_mean_absolute_error: 0.0306\n",
      "Epoch 7/20\n",
      "16/16 [==============================] - 2s 111ms/step - loss: 0.0088 - mean_absolute_error: 0.0459 - val_loss: 0.0047 - val_mean_absolute_error: 0.0282\n",
      "Epoch 8/20\n",
      "16/16 [==============================] - 2s 111ms/step - loss: 0.0090 - mean_absolute_error: 0.0467 - val_loss: 0.0049 - val_mean_absolute_error: 0.0265\n",
      "Epoch 9/20\n",
      "16/16 [==============================] - 2s 112ms/step - loss: 0.0081 - mean_absolute_error: 0.0441 - val_loss: 0.0058 - val_mean_absolute_error: 0.0302\n",
      "Epoch 10/20\n",
      "16/16 [==============================] - 2s 111ms/step - loss: 0.0084 - mean_absolute_error: 0.0449 - val_loss: 0.0056 - val_mean_absolute_error: 0.0294\n",
      "Epoch 11/20\n",
      "16/16 [==============================] - 2s 112ms/step - loss: 0.0083 - mean_absolute_error: 0.0443 - val_loss: 0.0044 - val_mean_absolute_error: 0.0259\n",
      "Epoch 12/20\n",
      "16/16 [==============================] - 2s 111ms/step - loss: 0.0073 - mean_absolute_error: 0.0418 - val_loss: 0.0043 - val_mean_absolute_error: 0.0242\n",
      "Epoch 13/20\n",
      "16/16 [==============================] - 2s 112ms/step - loss: 0.0085 - mean_absolute_error: 0.0448 - val_loss: 0.0059 - val_mean_absolute_error: 0.0311\n",
      "Epoch 14/20\n",
      "16/16 [==============================] - 2s 111ms/step - loss: 0.0076 - mean_absolute_error: 0.0427 - val_loss: 0.0045 - val_mean_absolute_error: 0.0268\n",
      "Epoch 15/20\n",
      "16/16 [==============================] - 2s 128ms/step - loss: 0.0072 - mean_absolute_error: 0.0413 - val_loss: 0.0055 - val_mean_absolute_error: 0.0297\n",
      "Epoch 16/20\n",
      "16/16 [==============================] - 2s 113ms/step - loss: 0.0075 - mean_absolute_error: 0.0425 - val_loss: 0.0039 - val_mean_absolute_error: 0.0235\n",
      "Epoch 17/20\n",
      "16/16 [==============================] - 2s 115ms/step - loss: 0.0073 - mean_absolute_error: 0.0416 - val_loss: 0.0061 - val_mean_absolute_error: 0.0307\n",
      "Epoch 18/20\n",
      "16/16 [==============================] - 2s 126ms/step - loss: 0.0072 - mean_absolute_error: 0.0412 - val_loss: 0.0048 - val_mean_absolute_error: 0.0274\n",
      "Epoch 19/20\n",
      "16/16 [==============================] - 2s 129ms/step - loss: 0.0069 - mean_absolute_error: 0.0405 - val_loss: 0.0039 - val_mean_absolute_error: 0.0234\n",
      "Epoch 20/20\n",
      "16/16 [==============================] - 2s 121ms/step - loss: 0.0071 - mean_absolute_error: 0.0410 - val_loss: 0.0049 - val_mean_absolute_error: 0.0274\n",
      "3/3 [==============================] - 0s 31ms/step - loss: 0.0049 - mean_absolute_error: 0.0274\n",
      "measure a: [0.0049237473867833614, 0.027409855276346207]\n"
     ]
    }
   ],
   "source": [
    "history_a = compile_and_fit(lstm_model_a,train_a_x, train_a_y, val_a_x, val_a_y)\n",
    "print(f'measure a: {lstm_model_a.evaluate(val_a_x, val_a_y)}')\n",
    "\n",
    "#[0.006232030689716339, 0.03161332383751869]\n",
    "#[0.005147780757397413, 0.028607070446014404] -> year and day\n",
    "#[0.004300971981137991, 0.02555842511355877]"
   ]
  },
  {
   "cell_type": "code",
   "execution_count": 335,
   "metadata": {},
   "outputs": [
    {
     "name": "stdout",
     "output_type": "stream",
     "text": [
      "Epoch 1/20\n",
      "16/16 [==============================] - 16s 254ms/step - loss: 0.0286 - mean_absolute_error: 0.0800 - val_loss: 0.0097 - val_mean_absolute_error: 0.0337\n",
      "Epoch 2/20\n",
      "16/16 [==============================] - 2s 117ms/step - loss: 0.0102 - mean_absolute_error: 0.0503 - val_loss: 0.0053 - val_mean_absolute_error: 0.0275\n",
      "Epoch 3/20\n",
      "16/16 [==============================] - 2s 116ms/step - loss: 0.0106 - mean_absolute_error: 0.0508 - val_loss: 0.0065 - val_mean_absolute_error: 0.0293\n",
      "Epoch 4/20\n",
      "16/16 [==============================] - 2s 118ms/step - loss: 0.0098 - mean_absolute_error: 0.0479 - val_loss: 0.0046 - val_mean_absolute_error: 0.0253\n",
      "Epoch 5/20\n",
      "16/16 [==============================] - 2s 117ms/step - loss: 0.0085 - mean_absolute_error: 0.0447 - val_loss: 0.0073 - val_mean_absolute_error: 0.0312\n",
      "Epoch 6/20\n",
      "16/16 [==============================] - 2s 118ms/step - loss: 0.0099 - mean_absolute_error: 0.0482 - val_loss: 0.0045 - val_mean_absolute_error: 0.0252\n",
      "Epoch 7/20\n",
      "16/16 [==============================] - 2s 118ms/step - loss: 0.0078 - mean_absolute_error: 0.0429 - val_loss: 0.0140 - val_mean_absolute_error: 0.0435\n",
      "Epoch 8/20\n",
      "16/16 [==============================] - 2s 122ms/step - loss: 0.0087 - mean_absolute_error: 0.0453 - val_loss: 0.0039 - val_mean_absolute_error: 0.0232\n",
      "Epoch 9/20\n",
      "16/16 [==============================] - 2s 121ms/step - loss: 0.0084 - mean_absolute_error: 0.0443 - val_loss: 0.0047 - val_mean_absolute_error: 0.0253\n",
      "Epoch 10/20\n",
      "16/16 [==============================] - 2s 115ms/step - loss: 0.0083 - mean_absolute_error: 0.0437 - val_loss: 0.0072 - val_mean_absolute_error: 0.0302\n",
      "Epoch 11/20\n",
      "16/16 [==============================] - 2s 116ms/step - loss: 0.0077 - mean_absolute_error: 0.0420 - val_loss: 0.0104 - val_mean_absolute_error: 0.0383\n",
      "Epoch 12/20\n",
      "16/16 [==============================] - 2s 126ms/step - loss: 0.0078 - mean_absolute_error: 0.0420 - val_loss: 0.0052 - val_mean_absolute_error: 0.0308\n",
      "2/2 [==============================] - 0s 46ms/step - loss: 0.0039 - mean_absolute_error: 0.0232\n",
      "measure b: [0.003858548356220126, 0.02315947227180004]\n"
     ]
    }
   ],
   "source": [
    "history_b = compile_and_fit(lstm_model_b,train_b_x, train_b_y, val_b_x, val_b_y)\n",
    "print(f'measure b: {lstm_model_b.evaluate(val_b_x, val_b_y)}')\n",
    "\n",
    "#[0.007145202253013849, 0.03178989142179489]\n",
    "#[0.008217844180762768, 0.03327266126871109]\n",
    "#[0.0067342291586101055, 0.030065299943089485]"
   ]
  },
  {
   "cell_type": "code",
   "execution_count": 336,
   "metadata": {},
   "outputs": [
    {
     "name": "stdout",
     "output_type": "stream",
     "text": [
      "Epoch 1/20\n",
      "16/16 [==============================] - 17s 255ms/step - loss: 0.0290 - mean_absolute_error: 0.0695 - val_loss: 0.0163 - val_mean_absolute_error: 0.0454\n",
      "Epoch 2/20\n",
      "16/16 [==============================] - 2s 115ms/step - loss: 0.0287 - mean_absolute_error: 0.0653 - val_loss: 0.0163 - val_mean_absolute_error: 0.0454\n",
      "Epoch 3/20\n",
      "16/16 [==============================] - 2s 115ms/step - loss: 0.0287 - mean_absolute_error: 0.0653 - val_loss: 0.0163 - val_mean_absolute_error: 0.0454\n",
      "Epoch 4/20\n",
      "16/16 [==============================] - 2s 114ms/step - loss: 0.0287 - mean_absolute_error: 0.0653 - val_loss: 0.0163 - val_mean_absolute_error: 0.0454\n",
      "Epoch 5/20\n",
      "16/16 [==============================] - 2s 115ms/step - loss: 0.0325 - mean_absolute_error: 0.0794 - val_loss: 0.0060 - val_mean_absolute_error: 0.0283\n",
      "Epoch 6/20\n",
      "16/16 [==============================] - 2s 116ms/step - loss: 0.0119 - mean_absolute_error: 0.0495 - val_loss: 0.0039 - val_mean_absolute_error: 0.0262\n",
      "Epoch 7/20\n",
      "16/16 [==============================] - 2s 116ms/step - loss: 0.0129 - mean_absolute_error: 0.0508 - val_loss: 0.0066 - val_mean_absolute_error: 0.0419\n",
      "Epoch 8/20\n",
      "16/16 [==============================] - 2s 115ms/step - loss: 0.0122 - mean_absolute_error: 0.0501 - val_loss: 0.0055 - val_mean_absolute_error: 0.0276\n",
      "Epoch 9/20\n",
      "16/16 [==============================] - 2s 116ms/step - loss: 0.0130 - mean_absolute_error: 0.0515 - val_loss: 0.0032 - val_mean_absolute_error: 0.0232\n",
      "Epoch 10/20\n",
      "16/16 [==============================] - 2s 117ms/step - loss: 0.0115 - mean_absolute_error: 0.0475 - val_loss: 0.0037 - val_mean_absolute_error: 0.0273\n",
      "Epoch 11/20\n",
      "16/16 [==============================] - 2s 132ms/step - loss: 0.0116 - mean_absolute_error: 0.0475 - val_loss: 0.0092 - val_mean_absolute_error: 0.0351\n",
      "Epoch 12/20\n",
      "16/16 [==============================] - 2s 119ms/step - loss: 0.0121 - mean_absolute_error: 0.0488 - val_loss: 0.0046 - val_mean_absolute_error: 0.0246\n",
      "Epoch 13/20\n",
      "16/16 [==============================] - 2s 123ms/step - loss: 0.0105 - mean_absolute_error: 0.0456 - val_loss: 0.0076 - val_mean_absolute_error: 0.0393\n",
      "2/2 [==============================] - 0s 33ms/step - loss: 0.0032 - mean_absolute_error: 0.0232\n",
      "measure c: [0.003177673788741231, 0.023201733827590942]\n"
     ]
    }
   ],
   "source": [
    "history_c = compile_and_fit(lstm_model_c,train_c_x, train_c_y, val_c_x, val_c_y)\n",
    "print(f'measure c: {lstm_model_c.evaluate(val_c_x, val_c_y)}')\n",
    "\n",
    "#[0.004318469204008579, 0.02518327347934246]\n",
    "#[0.004314047750085592, 0.025382312014698982]\n",
    "#[0.003403852926567197, 0.02470281533896923]"
   ]
  },
  {
   "cell_type": "code",
   "execution_count": 337,
   "metadata": {},
   "outputs": [],
   "source": [
    "#lstm_model_a.get_weight_paths()"
   ]
  },
  {
   "cell_type": "code",
   "execution_count": 338,
   "metadata": {},
   "outputs": [
    {
     "name": "stdout",
     "output_type": "stream",
     "text": [
      "1/1 [==============================] - 2s 2s/step\n",
      "1/1 [==============================] - 2s 2s/step\n",
      "1/1 [==============================] - 2s 2s/step\n",
      "3/3 [==============================] - 0s 34ms/step\n",
      "2/2 [==============================] - 0s 33ms/step\n",
      "2/2 [==============================] - 0s 44ms/step\n"
     ]
    }
   ],
   "source": [
    "pred_a = lstm_model_a.predict(test_a)\n",
    "pred_b = lstm_model_b.predict(test_b)\n",
    "pred_c = lstm_model_c.predict(test_c)\n",
    "\n",
    "pred_a_val = lstm_model_a.predict(val_a_x)\n",
    "pred_b_val = lstm_model_b.predict(val_b_x)\n",
    "pred_c_val = lstm_model_c.predict(val_c_x)"
   ]
  },
  {
   "cell_type": "code",
   "execution_count": 339,
   "metadata": {},
   "outputs": [],
   "source": [
    "pred_a = pred_a.flatten() * a_max\n",
    "pred_b = pred_b.flatten() * b_max\n",
    "pred_c = pred_c.flatten() * c_max\n",
    "\n",
    "pred_a_val = pred_a_val.flatten() * a_max\n",
    "pred_b_val = pred_b_val.flatten() * b_max\n",
    "pred_c_val = pred_c_val.flatten() * c_max"
   ]
  },
  {
   "cell_type": "code",
   "execution_count": null,
   "metadata": {},
   "outputs": [],
   "source": []
  },
  {
   "cell_type": "code",
   "execution_count": 342,
   "metadata": {},
   "outputs": [
    {
     "data": {
      "text/plain": [
       "[<matplotlib.lines.Line2D at 0x260305a89a0>]"
      ]
     },
     "execution_count": 342,
     "metadata": {},
     "output_type": "execute_result"
    },
    {
     "data": {
      "image/png": "[encoded data removed]",
      "text/plain": [
       "<Figure size 640x480 with 1 Axes>"
      ]
     },
     "metadata": {},
     "output_type": "display_data"
    }
   ],
   "source": [
    "plt.plot(pred_a[0:24*7], color=\"blue\")\n",
    "plt.plot(pred_b[0:24*7], color=\"red\")\n",
    "plt.plot(pred_c[0:24*7], color=\"green\")"
   ]
  },
  {
   "cell_type": "code",
   "execution_count": 341,
   "metadata": {},
   "outputs": [
    {
     "data": {
      "text/plain": [
       "[<matplotlib.lines.Line2D at 0x2601ba25720>]"
      ]
     },
     "execution_count": 341,
     "metadata": {},
     "output_type": "execute_result"
    },
    {
     "data": {
      "image/png": "[encoded data removed]",
      "text/plain": [
       "<Figure size 640x480 with 1 Axes>"
      ]
     },
     "metadata": {},
     "output_type": "display_data"
    }
   ],
   "source": [
    "plt.plot(pred_a_val[:1000], color=\"blue\")\n",
    "plt.plot(val_a_y.flatten()[:1000] * a_max, color=\"red\")"
   ]
  },
  {
   "cell_type": "code",
   "execution_count": 243,
   "metadata": {},
   "outputs": [
    {
     "data": {
      "text/html": [
       "<div>\n",
       "<style scoped>\n",
       "    .dataframe tbody tr th:only-of-type {\n",
       "        vertical-align: middle;\n",
       "    }\n",
       "\n",
       "    .dataframe tbody tr th {\n",
       "        vertical-align: top;\n",
       "    }\n",
       "\n",
       "    .dataframe thead th {\n",
       "        text-align: right;\n",
       "    }\n",
       "</style>\n",
       "<table border=\"1\" class=\"dataframe\">\n",
       "  <thead>\n",
       "    <tr style=\"text-align: right;\">\n",
       "      <th></th>\n",
       "      <th>id</th>\n",
       "      <th>time</th>\n",
       "      <th>prediction</th>\n",
       "      <th>location</th>\n",
       "    </tr>\n",
       "  </thead>\n",
       "  <tbody>\n",
       "    <tr>\n",
       "      <th>0</th>\n",
       "      <td>0</td>\n",
       "      <td>2023-05-01 00:00:00</td>\n",
       "      <td>0</td>\n",
       "      <td>A</td>\n",
       "    </tr>\n",
       "    <tr>\n",
       "      <th>1</th>\n",
       "      <td>1</td>\n",
       "      <td>2023-05-01 01:00:00</td>\n",
       "      <td>0</td>\n",
       "      <td>A</td>\n",
       "    </tr>\n",
       "    <tr>\n",
       "      <th>2</th>\n",
       "      <td>2</td>\n",
       "      <td>2023-05-01 02:00:00</td>\n",
       "      <td>0</td>\n",
       "      <td>A</td>\n",
       "    </tr>\n",
       "    <tr>\n",
       "      <th>3</th>\n",
       "      <td>3</td>\n",
       "      <td>2023-05-01 03:00:00</td>\n",
       "      <td>0</td>\n",
       "      <td>A</td>\n",
       "    </tr>\n",
       "    <tr>\n",
       "      <th>4</th>\n",
       "      <td>4</td>\n",
       "      <td>2023-05-01 04:00:00</td>\n",
       "      <td>0</td>\n",
       "      <td>A</td>\n",
       "    </tr>\n",
       "    <tr>\n",
       "      <th>...</th>\n",
       "      <td>...</td>\n",
       "      <td>...</td>\n",
       "      <td>...</td>\n",
       "      <td>...</td>\n",
       "    </tr>\n",
       "    <tr>\n",
       "      <th>2155</th>\n",
       "      <td>2155</td>\n",
       "      <td>2023-07-03 19:00:00</td>\n",
       "      <td>0</td>\n",
       "      <td>C</td>\n",
       "    </tr>\n",
       "    <tr>\n",
       "      <th>2156</th>\n",
       "      <td>2156</td>\n",
       "      <td>2023-07-03 20:00:00</td>\n",
       "      <td>0</td>\n",
       "      <td>C</td>\n",
       "    </tr>\n",
       "    <tr>\n",
       "      <th>2157</th>\n",
       "      <td>2157</td>\n",
       "      <td>2023-07-03 21:00:00</td>\n",
       "      <td>0</td>\n",
       "      <td>C</td>\n",
       "    </tr>\n",
       "    <tr>\n",
       "      <th>2158</th>\n",
       "      <td>2158</td>\n",
       "      <td>2023-07-03 22:00:00</td>\n",
       "      <td>0</td>\n",
       "      <td>C</td>\n",
       "    </tr>\n",
       "    <tr>\n",
       "      <th>2159</th>\n",
       "      <td>2159</td>\n",
       "      <td>2023-07-03 23:00:00</td>\n",
       "      <td>0</td>\n",
       "      <td>C</td>\n",
       "    </tr>\n",
       "  </tbody>\n",
       "</table>\n",
       "<p>2160 rows × 4 columns</p>\n",
       "</div>"
      ],
      "text/plain": [
       "        id                 time  prediction location\n",
       "0        0  2023-05-01 00:00:00           0        A\n",
       "1        1  2023-05-01 01:00:00           0        A\n",
       "2        2  2023-05-01 02:00:00           0        A\n",
       "3        3  2023-05-01 03:00:00           0        A\n",
       "4        4  2023-05-01 04:00:00           0        A\n",
       "...    ...                  ...         ...      ...\n",
       "2155  2155  2023-07-03 19:00:00           0        C\n",
       "2156  2156  2023-07-03 20:00:00           0        C\n",
       "2157  2157  2023-07-03 21:00:00           0        C\n",
       "2158  2158  2023-07-03 22:00:00           0        C\n",
       "2159  2159  2023-07-03 23:00:00           0        C\n",
       "\n",
       "[2160 rows x 4 columns]"
      ]
     },
     "execution_count": 243,
     "metadata": {},
     "output_type": "execute_result"
    }
   ],
   "source": [
    "test = pd.read_csv('test.csv')\n",
    "\n",
    "test"
   ]
  },
  {
   "cell_type": "code",
   "execution_count": 244,
   "metadata": {},
   "outputs": [
    {
     "data": {
      "text/html": [
       "<div>\n",
       "<style scoped>\n",
       "    .dataframe tbody tr th:only-of-type {\n",
       "        vertical-align: middle;\n",
       "    }\n",
       "\n",
       "    .dataframe tbody tr th {\n",
       "        vertical-align: top;\n",
       "    }\n",
       "\n",
       "    .dataframe thead th {\n",
       "        text-align: right;\n",
       "    }\n",
       "</style>\n",
       "<table border=\"1\" class=\"dataframe\">\n",
       "  <thead>\n",
       "    <tr style=\"text-align: right;\">\n",
       "      <th></th>\n",
       "      <th>id</th>\n",
       "      <th>prediction</th>\n",
       "    </tr>\n",
       "  </thead>\n",
       "  <tbody>\n",
       "    <tr>\n",
       "      <th>0</th>\n",
       "      <td>0</td>\n",
       "      <td>0</td>\n",
       "    </tr>\n",
       "    <tr>\n",
       "      <th>1</th>\n",
       "      <td>1</td>\n",
       "      <td>0</td>\n",
       "    </tr>\n",
       "    <tr>\n",
       "      <th>2</th>\n",
       "      <td>2</td>\n",
       "      <td>0</td>\n",
       "    </tr>\n",
       "    <tr>\n",
       "      <th>3</th>\n",
       "      <td>3</td>\n",
       "      <td>0</td>\n",
       "    </tr>\n",
       "    <tr>\n",
       "      <th>4</th>\n",
       "      <td>4</td>\n",
       "      <td>0</td>\n",
       "    </tr>\n",
       "    <tr>\n",
       "      <th>...</th>\n",
       "      <td>...</td>\n",
       "      <td>...</td>\n",
       "    </tr>\n",
       "    <tr>\n",
       "      <th>2155</th>\n",
       "      <td>2155</td>\n",
       "      <td>0</td>\n",
       "    </tr>\n",
       "    <tr>\n",
       "      <th>2156</th>\n",
       "      <td>2156</td>\n",
       "      <td>0</td>\n",
       "    </tr>\n",
       "    <tr>\n",
       "      <th>2157</th>\n",
       "      <td>2157</td>\n",
       "      <td>0</td>\n",
       "    </tr>\n",
       "    <tr>\n",
       "      <th>2158</th>\n",
       "      <td>2158</td>\n",
       "      <td>0</td>\n",
       "    </tr>\n",
       "    <tr>\n",
       "      <th>2159</th>\n",
       "      <td>2159</td>\n",
       "      <td>0</td>\n",
       "    </tr>\n",
       "  </tbody>\n",
       "</table>\n",
       "<p>2160 rows × 2 columns</p>\n",
       "</div>"
      ],
      "text/plain": [
       "        id  prediction\n",
       "0        0           0\n",
       "1        1           0\n",
       "2        2           0\n",
       "3        3           0\n",
       "4        4           0\n",
       "...    ...         ...\n",
       "2155  2155           0\n",
       "2156  2156           0\n",
       "2157  2157           0\n",
       "2158  2158           0\n",
       "2159  2159           0\n",
       "\n",
       "[2160 rows x 2 columns]"
      ]
     },
     "execution_count": 244,
     "metadata": {},
     "output_type": "execute_result"
    }
   ],
   "source": [
    "sample_submission = pd.read_csv('sample_submission.csv')\n",
    "sample_submission"
   ]
  },
  {
   "cell_type": "code",
   "execution_count": 245,
   "metadata": {},
   "outputs": [],
   "source": [
    "submit = np.concatenate((np.concatenate((pred_a, pred_b)),pred_c))"
   ]
  },
  {
   "cell_type": "code",
   "execution_count": 246,
   "metadata": {},
   "outputs": [],
   "source": [
    "from datetime import datetime\n",
    "\n",
    "now = datetime.now() # current date and time\n",
    "\n",
    "# Example, let the predictions be random values\n",
    "test['prediction'] = submit\n",
    "sample_submission = sample_submission[['id']].merge(test[['id', 'prediction']], on='id', how='left')\n",
    "sample_submission.to_csv(\"bi_vol2.csv\", index=False)"
   ]
  },
  {
   "cell_type": "code",
   "execution_count": null,
   "metadata": {},
   "outputs": [],
   "source": []
  }
 ],
 "metadata": {
  "kernelspec": {
   "display_name": "Python [conda env:tf]",
   "language": "python",
   "name": "conda-env-tf-py"
  },
  "language_info": {
   "codemirror_mode": {
    "name": "ipython",
    "version": 3
   },
   "file_extension": ".py",
   "mimetype": "text/x-python",
   "name": "python",
   "nbconvert_exporter": "python",
   "pygments_lexer": "ipython3",
   "version": "3.10.13"
  }
 },
 "nbformat": 4,
 "nbformat_minor": 2
}
